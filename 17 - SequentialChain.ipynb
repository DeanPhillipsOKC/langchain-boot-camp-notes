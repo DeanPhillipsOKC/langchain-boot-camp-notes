{
 "cells": [
  {
   "cell_type": "code",
   "execution_count": 1,
   "id": "ef1bac42-f956-47dd-b5c1-7e3046b44710",
   "metadata": {},
   "outputs": [],
   "source": [
    "from langchain_openai import ChatOpenAI\n",
    "from langchain.prompts import ChatPromptTemplate, HumanMessagePromptTemplate"
   ]
  },
  {
   "cell_type": "code",
   "execution_count": 2,
   "id": "51574eb4-ab78-4d1e-b564-987b737cd7f5",
   "metadata": {},
   "outputs": [],
   "source": [
    "from langchain.chains import LLMChain, SequentialChain"
   ]
  },
  {
   "cell_type": "code",
   "execution_count": 3,
   "id": "a42ad469-5c28-4532-b8a8-143770ed1958",
   "metadata": {},
   "outputs": [],
   "source": [
    "llm = ChatOpenAI()"
   ]
  },
  {
   "cell_type": "code",
   "execution_count": 16,
   "id": "d0db9d64-d2b2-4d74-bafa-20634cd614bc",
   "metadata": {},
   "outputs": [],
   "source": [
    "prompt1 = ChatPromptTemplate.from_template(\"Create an employee review for a fictional office worker named: {name}\")\n",
    "chain1 = LLMChain(llm=llm, prompt=prompt1, output_key=\"review\")"
   ]
  },
  {
   "cell_type": "code",
   "execution_count": 8,
   "id": "6bd95850-2d90-4a61-a931-fa50bf56ac07",
   "metadata": {},
   "outputs": [],
   "source": [
    "prompt2 = ChatPromptTemplate.from_template(\"Create a summary of the following performance review\\n{review}\")\n",
    "chain2 = LLMChain(llm=llm, prompt=prompt2, output_key=\"summary\")"
   ]
  },
  {
   "cell_type": "code",
   "execution_count": 11,
   "id": "56f6a414-95b7-42b4-b4aa-33729f72eb02",
   "metadata": {},
   "outputs": [],
   "source": [
    "prompt3 = ChatPromptTemplate.from_template(\"Create a list of weaknesses from the following performance review summary\\n{summary}\")\n",
    "chain3 = LLMChain(llm=llm, prompt=prompt3, output_key=\"weaknesses\")"
   ]
  },
  {
   "cell_type": "code",
   "execution_count": 12,
   "id": "4b1ae6d1-9914-499f-ab17-6f9b5ebb78b6",
   "metadata": {},
   "outputs": [],
   "source": [
    "prompt4 = ChatPromptTemplate.from_template(\"Create a performance improvement plan for the following employee's list of weaknesses\\n{weaknesses}\")\n",
    "chain4 = LLMChain(llm=llm, prompt=prompt4, output_key=\"plan\")"
   ]
  },
  {
   "cell_type": "code",
   "execution_count": 18,
   "id": "6689fd8b-bf3f-4b5e-8ec7-86c411db80a3",
   "metadata": {},
   "outputs": [],
   "source": [
    "chain = SequentialChain(chains=[chain1, chain2, chain3, chain4], \n",
    "                        input_variables = [\"name\"], \n",
    "                        output_variables=[\"review\", \"summary\", \"weaknesses\", \"plan\"])"
   ]
  },
  {
   "cell_type": "code",
   "execution_count": 20,
   "id": "b100e267-5c2a-4693-afeb-e46ae4e0a228",
   "metadata": {},
   "outputs": [],
   "source": [
    "result = chain(\"Deaner VonAnklemireschmidt\")"
   ]
  },
  {
   "cell_type": "code",
   "execution_count": 21,
   "id": "3fb22561-c00e-4831-aa34-7bb57992831b",
   "metadata": {},
   "outputs": [
    {
     "name": "stdout",
     "output_type": "stream",
     "text": [
      "Employee Name: Deaner VonAnklemireschmidt\n",
      "Position: Office Worker\n",
      "\n",
      "Deaner VonAnklemireschmidt has been a valuable member of our team for the past year. His hard work, dedication, and positive attitude have greatly contributed to the success of our office.\n",
      "\n",
      "Deaner consistently goes above and beyond in his role as an office worker. He is always willing to take on additional tasks and responsibilities, and he completes them with efficiency and accuracy. Deaner is a quick learner and is always looking for ways to improve his skills and knowledge.\n",
      "\n",
      "One of Deaner's greatest strengths is his ability to work well with others. He is a team player who is always willing to help his colleagues and offer support when needed. Deaner's positive attitude and friendly demeanor make him a pleasure to work with.\n",
      "\n",
      "In addition to his strong work ethic, Deaner is also highly organized and detail-oriented. He pays attention to the small details and ensures that his work is always completed to the highest standard.\n",
      "\n",
      "Overall, Deaner VonAnklemireschmidt is an exceptional office worker who consistently exceeds expectations. We are grateful to have him as part of our team and look forward to his continued contributions in the future. \n",
      "\n",
      "Rating: 5/5 stars\n",
      "\n",
      "Reviewer: [Your Name]\n",
      "Position: [Your Position]\n"
     ]
    }
   ],
   "source": [
    "print(result[\"review\"])"
   ]
  },
  {
   "cell_type": "code",
   "execution_count": 22,
   "id": "7b14e2d8-576b-4c8d-be3b-3604a80093d9",
   "metadata": {},
   "outputs": [
    {
     "name": "stdout",
     "output_type": "stream",
     "text": [
      "Deaner VonAnklemireschmidt has been an outstanding office worker for the past year, consistently going above and beyond in his role. He is a quick learner, highly organized, and detail-oriented. Deaner's ability to work well with others and positive attitude make him a valuable team player. Overall, he exceeds expectations and is a pleasure to work with. Rating: 5/5 stars. \n",
      "\n",
      "Reviewer: [Your Name] \n",
      "Position: [Your Position]\n"
     ]
    }
   ],
   "source": [
    "print(result[\"summary\"])"
   ]
  },
  {
   "cell_type": "code",
   "execution_count": 23,
   "id": "11365f1c-a07e-46fb-a63b-31f8556de3a9",
   "metadata": {},
   "outputs": [
    {
     "name": "stdout",
     "output_type": "stream",
     "text": [
      "Weaknesses:\n",
      "1. While Deaner is a strong team player, he may struggle with asserting himself and taking on leadership roles.\n",
      "2. Deaner's attention to detail can sometimes lead to a tendency to overanalyze tasks, which may slow down efficiency.\n",
      "3. Deaner may benefit from improving his communication skills, particularly in expressing his ideas and concerns effectively.\n"
     ]
    }
   ],
   "source": [
    "print(result[\"weaknesses\"])"
   ]
  },
  {
   "cell_type": "code",
   "execution_count": 24,
   "id": "67191609-c9f6-4adc-a716-9d24561dc9bc",
   "metadata": {},
   "outputs": [
    {
     "name": "stdout",
     "output_type": "stream",
     "text": [
      "Performance Improvement Plan for Deaner:\n",
      "\n",
      "1. Leadership Development:\n",
      "- Provide Deaner with opportunities to take on leadership roles within the team, such as leading a project or leading a team meeting.\n",
      "- Offer training or coaching to help Deaner develop his assertiveness and leadership skills.\n",
      "- Encourage Deaner to speak up and share his ideas and opinions during team meetings or discussions.\n",
      "\n",
      "2. Time Management and Efficiency:\n",
      "- Help Deaner prioritize tasks and focus on the most important aspects of a project to prevent overanalyzing and increase efficiency.\n",
      "- Provide tools or resources to help Deaner streamline his work processes and improve his time management skills.\n",
      "- Set clear deadlines and expectations for Deaner to help him stay on track and avoid getting caught up in unnecessary details.\n",
      "\n",
      "3. Communication Skills Improvement:\n",
      "- Offer communication skills training for Deaner to help him improve his ability to express his ideas and concerns effectively.\n",
      "- Encourage Deaner to practice active listening and ask for feedback from colleagues to improve his communication skills.\n",
      "- Provide opportunities for Deaner to present his ideas or projects to the team to help build his confidence in communicating effectively.\n",
      "\n",
      "Overall, regular feedback and support from managers and colleagues will be essential in helping Deaner address these weaknesses and continue to grow and develop in his role.\n"
     ]
    }
   ],
   "source": [
    "print(result[\"plan\"])"
   ]
  },
  {
   "cell_type": "code",
   "execution_count": null,
   "id": "9b720642-3c8b-4650-88fb-d06ac83c5d68",
   "metadata": {},
   "outputs": [],
   "source": []
  }
 ],
 "metadata": {
  "kernelspec": {
   "display_name": "Python 3 (ipykernel)",
   "language": "python",
   "name": "python3"
  },
  "language_info": {
   "codemirror_mode": {
    "name": "ipython",
    "version": 3
   },
   "file_extension": ".py",
   "mimetype": "text/x-python",
   "name": "python",
   "nbconvert_exporter": "python",
   "pygments_lexer": "ipython3",
   "version": "3.12.4"
  }
 },
 "nbformat": 4,
 "nbformat_minor": 5
}
