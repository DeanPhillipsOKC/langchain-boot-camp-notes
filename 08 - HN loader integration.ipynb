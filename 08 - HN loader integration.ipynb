{
 "cells": [
  {
   "cell_type": "code",
   "execution_count": 5,
   "id": "e69117fc-8034-46c3-b388-964566bb33f1",
   "metadata": {},
   "outputs": [],
   "source": [
    "from langchain.document_loaders import HNLoader\n",
    "from langchain.prompts import HumanMessagePromptTemplate, ChatPromptTemplate\n",
    "from langchain.chat_models import ChatOpenAI"
   ]
  },
  {
   "cell_type": "code",
   "execution_count": 6,
   "id": "a55ac470-6283-4cf4-8d26-0ebb261472d6",
   "metadata": {},
   "outputs": [],
   "source": [
    "loader = HNLoader(\"https://news.ycombinator.com/item?id=41217313\")"
   ]
  },
  {
   "cell_type": "code",
   "execution_count": 7,
   "id": "c998453b-2230-438a-8efc-c338b519bbe5",
   "metadata": {},
   "outputs": [],
   "source": [
    "docs = loader.load()"
   ]
  },
  {
   "cell_type": "code",
   "execution_count": 8,
   "id": "6fb47a25-b8f8-42f6-a9ce-60e1015d38c7",
   "metadata": {},
   "outputs": [
    {
     "data": {
      "text/plain": [
       "Document(metadata={'source': 'https://news.ycombinator.com/item?id=41217313', 'title': \"ChatGPT unexpectedly began speaking in a user's cloned voice during testing\"}, page_content='sigmoid10 7 minutes ago  \\n             | next [–] \\n\\nThis problem appeared during pre-release testing and has since been solved post-generation using an output classifier that verifies responses, according to the system card release. It was predictable that someone would spin this into a black mirror-esque clickbait story.\\n \\nreply')"
      ]
     },
     "execution_count": 8,
     "metadata": {},
     "output_type": "execute_result"
    }
   ],
   "source": [
    "docs[0]"
   ]
  },
  {
   "cell_type": "code",
   "execution_count": 10,
   "id": "5b6a1dcf-2621-4757-8ddd-5893f373ad65",
   "metadata": {},
   "outputs": [],
   "source": [
    "human_prompt = HumanMessagePromptTemplate.from_template(\"\"\"Provide a summary of the following Hacker News comment.  \n",
    "    Please distill it so that it does not use hyperbolic or unnecessarily aggressive language.  Just stick to the facts \n",
    "    even if they are cynical\\n{comment}\"\"\")"
   ]
  },
  {
   "cell_type": "code",
   "execution_count": 12,
   "id": "3d0b17de-b5b5-440d-8ca6-c8d4ab1f21fa",
   "metadata": {},
   "outputs": [],
   "source": [
    "chat_prompt = ChatPromptTemplate.from_messages([human_prompt])"
   ]
  },
  {
   "cell_type": "code",
   "execution_count": 13,
   "id": "41bca869-a70b-43fb-9cd2-d74380b54927",
   "metadata": {},
   "outputs": [],
   "source": [
    "request = chat_prompt.format_prompt(comment=docs[0].page_content)"
   ]
  },
  {
   "cell_type": "code",
   "execution_count": 14,
   "id": "5328ce25-99d3-4b1e-8237-91158317bcc2",
   "metadata": {},
   "outputs": [],
   "source": [
    "model = ChatOpenAI()"
   ]
  },
  {
   "cell_type": "code",
   "execution_count": 15,
   "id": "7940a51e-eeb2-417a-a511-79151a5f2b74",
   "metadata": {},
   "outputs": [],
   "source": [
    "response = model.invoke(request)"
   ]
  },
  {
   "cell_type": "code",
   "execution_count": 17,
   "id": "e619e6e0-4ff3-4736-b30d-c75261693989",
   "metadata": {},
   "outputs": [
    {
     "data": {
      "text/plain": [
       "\"The comment discusses the lack of innovation in the tech industry, citing that many companies are simply copying each other's products. The commenter believes that this lack of originality is leading to a stagnation in the industry.\""
      ]
     },
     "execution_count": 17,
     "metadata": {},
     "output_type": "execute_result"
    }
   ],
   "source": [
    "response.content"
   ]
  },
  {
   "cell_type": "code",
   "execution_count": null,
   "id": "2bf1814a-57ad-46cc-b941-b203234b52e0",
   "metadata": {},
   "outputs": [],
   "source": []
  }
 ],
 "metadata": {
  "kernelspec": {
   "display_name": "Python 3 (ipykernel)",
   "language": "python",
   "name": "python3"
  },
  "language_info": {
   "codemirror_mode": {
    "name": "ipython",
    "version": 3
   },
   "file_extension": ".py",
   "mimetype": "text/x-python",
   "name": "python",
   "nbconvert_exporter": "python",
   "pygments_lexer": "ipython3",
   "version": "3.12.4"
  }
 },
 "nbformat": 4,
 "nbformat_minor": 5
}
