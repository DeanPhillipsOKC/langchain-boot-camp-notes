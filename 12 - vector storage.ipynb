{
 "cells": [
  {
   "cell_type": "code",
   "execution_count": 1,
   "id": "7941cd53-2aad-4d91-95fb-328a288f95a0",
   "metadata": {},
   "outputs": [],
   "source": [
    "import chromadb"
   ]
  },
  {
   "cell_type": "code",
   "execution_count": 3,
   "id": "1ae9b47a-5c0c-40e0-9aa5-ad1f71d7b835",
   "metadata": {},
   "outputs": [],
   "source": [
    "from langchain.embeddings import OpenAIEmbeddings\n",
    "from langchain.text_splitter import CharacterTextSplitter\n",
    "from langchain.vectorstores import Chroma\n",
    "from langchain.document_loaders import TextLoader"
   ]
  },
  {
   "cell_type": "markdown",
   "id": "e6eaae3e-6a8b-4210-b077-991e80bda7fa",
   "metadata": {},
   "source": [
    "# Open document"
   ]
  },
  {
   "cell_type": "code",
   "execution_count": 11,
   "id": "bd897f73-f912-42b9-bf85-472b4d8d7729",
   "metadata": {},
   "outputs": [],
   "source": [
    "loader = TextLoader(\"data/Lincoln_State_of_Union_1862.txt\")"
   ]
  },
  {
   "cell_type": "code",
   "execution_count": 17,
   "id": "87261b98-e22f-461a-82b9-0614806df4f3",
   "metadata": {},
   "outputs": [],
   "source": [
    "lincoln_speech_doc = loader.load()[0]"
   ]
  },
  {
   "cell_type": "markdown",
   "id": "4c88662e-d791-4142-bb45-ae6117a89c86",
   "metadata": {},
   "source": [
    "# Split document"
   ]
  },
  {
   "cell_type": "code",
   "execution_count": 16,
   "id": "fadd4522-a339-4c10-9668-e73bba59efaa",
   "metadata": {},
   "outputs": [],
   "source": [
    "splitter = CharacterTextSplitter.from_tiktoken_encoder(chunk_size=500)"
   ]
  },
  {
   "cell_type": "code",
   "execution_count": 18,
   "id": "3a7da96e-3a86-4e05-aef4-be8465914358",
   "metadata": {},
   "outputs": [
    {
     "name": "stderr",
     "output_type": "stream",
     "text": [
      "Created a chunk of size 608, which is longer than the specified 500\n",
      "Created a chunk of size 539, which is longer than the specified 500\n",
      "Created a chunk of size 686, which is longer than the specified 500\n"
     ]
    }
   ],
   "source": [
    "chunked_docs = splitter.split_documents([lincoln_speech_doc])"
   ]
  },
  {
   "cell_type": "markdown",
   "id": "0da2d52e-f543-4a96-b042-fa847fd03761",
   "metadata": {},
   "source": [
    "# Create and store embeddings"
   ]
  },
  {
   "cell_type": "code",
   "execution_count": 20,
   "id": "fa6f9858-9c33-4ddb-861c-160bce2d6e00",
   "metadata": {},
   "outputs": [],
   "source": [
    "embedding_function = OpenAIEmbeddings()"
   ]
  },
  {
   "cell_type": "code",
   "execution_count": 22,
   "id": "5b8dbd4f-79b7-48da-961d-7728648a4ced",
   "metadata": {},
   "outputs": [],
   "source": [
    "db = Chroma.from_documents(chunked_docs, embedding_function, persist_directory=\".speech_db\")"
   ]
  },
  {
   "cell_type": "code",
   "execution_count": 23,
   "id": "e1183808-a051-4dc5-ad87-38d8b8a9848e",
   "metadata": {},
   "outputs": [],
   "source": [
    "db.persist()"
   ]
  },
  {
   "cell_type": "markdown",
   "id": "91f18b21-4fe9-4065-8336-2dda8658da9e",
   "metadata": {},
   "source": [
    "# query database"
   ]
  },
  {
   "cell_type": "code",
   "execution_count": 25,
   "id": "679605df-86d1-4b4e-bb32-72cc1b954a5f",
   "metadata": {},
   "outputs": [],
   "source": [
    "db_connection = Chroma(persist_directory=\".speech_db\", embedding_function=embedding_function)"
   ]
  },
  {
   "cell_type": "code",
   "execution_count": 27,
   "id": "ac90c7b7-4c89-42a7-9938-f4869559bf1d",
   "metadata": {},
   "outputs": [
    {
     "data": {
      "text/plain": [
       "[Document(metadata={'source': 'data/Lincoln_State_of_Union_1862.txt'}, page_content='Among the friends of the Union there is great diversity of sentiment and of policy in regard to slavery and the African race amongst us. Some would perpetuate slavery; some would abolish it suddenly and without compensation; some would abolish it gradually and with compensation: some would remove the freed people from us, and some would retain them with us; and there are yet other minor diversities. Because of these diversities we waste much strength in struggles among ourselves. By mutual concession we should harmonize and act together. This would be compromise, but it would be compromise among the friends and not with the enemies of the Union. These articles are intended to embody a plan of such mutual concessions. if the plan shall be adopted, it is assumed that emancipation will follow, at least in several of the States.\\n\\nAs to the first article, the main points are, first, the emancipation; secondly, the length of time for consummating it (thirty-seven years); and, thirdly, the compensation.'),\n",
       " Document(metadata={'source': 'data/Lincoln_State_of_Union_1862.txt'}, page_content='In this view I recommend the adoption of the following resolution and articles amendatory to the Constitution of the United States:\\n\\nResolved by the Senate and House of Representatives of the United States of America in Congress assembled (two-thirds of both Houses concurring), That the following articles be proposed to the legislatures (or conventions) of the several States as amendments to the Constitution of the United States, all or any of which articles, when ratified by three-fourths of the said legislatures (or conventions ), to be valid as part or parts of the said Constitution, viz:\\nART.--. Every State wherein slavery now exists which shall abolish the same therein at any time or times before the 1st day of January., A. D. 1900, shall receive compensation from the United States as follows, to wit:\\nThe President of the United States shall deliver to every such State bonds of the United States bearing interest at the rate of per cent per annum to an amount equal to the aggregate sum of____for each slave shown to have been therein by the Eighth Census of the United States, said bonds to be delivered to such State by installments or in one parcel at the completion of the abolishment, accordingly as the same shall have been gradual or at one time within such State; and interest shall begin to run upon any such bond only from the proper time of its delivery as aforesaid. Any State having received bonds as aforesaid and afterwards reintroducing or tolerating slavery therein shall refund to the United States the bonds so received, or the value thereof, and all interest paid thereon.\\nART—All slaves who shall have enjoyed actual freedom by the chances of the war at any time before the end of the rebellion shall be forever free; but all owners of such who shall not have been disloyal shall be compensated for them at the same rates as is provided for States adopting abolishment of slavery, but in such way that no slave shall be twice accounted for.\\nART.--Congress may appropriate money and otherwise provide for colonizing free colored persons with their own consent at any place or places without the United States.\\nI beg indulgence to discuss these proposed articles at some length. Without slavery the rebellion could never have existed; without slavery it could not continue.'),\n",
       " Document(metadata={'source': 'data/Lincoln_State_of_Union_1862.txt'}, page_content=\"One section of our country believes slavery is right and ought to be extended, while the other believes it is wrong and ought not to be extended. This is the only substantial dispute. The fugitive-slave clause of the Constitution and the law for the suppression of the foreign slave trade are each as well enforced, perhaps, as any law can ever be in a community where the moral sense of the people imperfectly supports the law itself. The great body of the people abide by the dry legal obligation in both cases, and a few break over in each. This I think, can not be perfectly cured, and it would be worse in both cases after the separation of the sections than before. The foreign slave trade, now imperfectly suppressed, would be ultimately revived without restriction in one section, while fugitive slaves, now only partially surrendered, would not be surrendered at all by the other. Physically speaking, we can not separate. We can not remove our respective sections from each other nor build an impassable wall between them. A husband and wife may be divorced and go out of the presence and beyond the reach of each other, but the different parts of our country can not do this. They can not but remain face to face, and intercourse, either amicable or hostile, must continue between them, Is it possible, then, to make that intercourse more advantageous or more satisfactory after separation than before? Can aliens make treaties easier than friends can make laws? Can treaties be more faithfully enforced between aliens than laws can among friends? Suppose you go to war, you can not fight always; and when, after much loss on both sides and no gain on either, you cease fighting, the identical old questions, as to terms of intercourse, are again upon you.\\nThere is no line, straight or crooked, suitable for a national boundary upon which to divide. Trace through, from east to west, upon the line between the free and slave country. and we shall find a little more than one-third of its length are rivers, easy to be crossed, and populated, or soon to be populated, thickly upon both sides; while nearly all its remaining length are merely surveyors' lines, over which people may walk back and forth without any consciousness of their presence. No part of this line can be made any more difficult to pass by writing it down on paper or parchment as a national boundary. The fact of separation, if it comes, gives up on the part of the seceding section the fugitive-slave clause, along with all other constitutional obligations upon the section seceded from, while I should expect no treaty stipulation would ever be made to take its place.\"),\n",
       " Document(metadata={'source': 'data/Lincoln_State_of_Union_1862.txt'}, page_content='As to the first article, the main points are, first, the emancipation; secondly, the length of time for consummating it (thirty-seven years); and, thirdly, the compensation.\\n\\nThe emancipation will be unsatisfactory to the advocates of perpetual slavery, but the length of time should greatly mitigate their dissatisfaction. The time spares both races from the evils of sudden derangement—in fact, from the necessity of any derangement—while most of those whose habitual course of thought will be disturbed by the measure will have passed away before its consummation. They will never see it. Another class will hail the prospect of emancipation, but will deprecate the length of time. They will feel that it gives too little to the now living slaves. But it really gives them much. It saves them from the vagrant destitution which must largely attend immediate emancipation in localities where their numbers are very great, and it gives the inspiring assurance that their posterity shall be free forever. The plan leaves to each State choosing to act under it to abolish slavery now or at the end of the century, or at any intermediate time, or by degrees extending over the whole or any part of the period, and it obliges no two States to proceed alike. It also provides for compensation, and generally the mode of making it. This, it would seem, must further mitigate the dissatisfaction of those who favor perpetual slavery, and especially of those who are to receive the compensation. Doubtless some of those who are to pay and not to receive will object. Yet the measure is both just and economical. In a certain sense the liberation of slaves is the destruction of property—property acquired by descent or by purchase, the same as any other property. It is no less true for having been often said that the people of the South are not more responsible for the original introduction of this property than are the people of the North; and when it is remembered how unhesitatingly we all use cotton and sugar and share the profits of dealing in them, it may not be quite safe to say that the South has been more responsible than the North for its continuance. If, then, for a common object this property is to be sacrificed, is it not just that it be done at a common charge?')]"
      ]
     },
     "execution_count": 27,
     "metadata": {},
     "output_type": "execute_result"
    }
   ],
   "source": [
    "db_connection.similarity_search(\"What did Lincoln say about slavery?\")"
   ]
  },
  {
   "cell_type": "markdown",
   "id": "5bb5fd7c-56b7-4167-8e14-6e658e9c23e4",
   "metadata": {},
   "source": [
    "# Creating a retriever out of the connection"
   ]
  },
  {
   "cell_type": "code",
   "execution_count": 28,
   "id": "28edb6e1-89c7-4cef-b769-ebff9c21295d",
   "metadata": {},
   "outputs": [],
   "source": [
    "retriever = db_connection.as_retriever()"
   ]
  },
  {
   "cell_type": "code",
   "execution_count": 29,
   "id": "683c0672-b49f-48db-b92e-d28102e05546",
   "metadata": {},
   "outputs": [
    {
     "data": {
      "text/plain": [
       "[Document(metadata={'source': 'data/Lincoln_State_of_Union_1862.txt'}, page_content='As to the second article, I think it would be impracticable to return to bondage the class of persons therein contemplated. Some of them, doubtless, in the property sense belong to loyal owners, and hence provision is made in this article for compensating such. The third article relates to the future of the freed people. It does not oblige, but merely authorizes Congress to aid in colonizing such as may consent. This ought not to be regarded as objectionable on the one hand or on the other, insomuch as it comes to nothing unless by the mutual consent of the people to be deported and the American voters, through their representatives in Congress.\\n\\nI can not make it better known than it already is that I strongly favor colonization; and yet I wish to say there is an objection urged against free colored persons remaining in the country which is largely imaginary, if not sometimes malicious.\\n\\nIt is insisted that their presence would injure and displace white labor and white laborers. If there ever could be a proper time for mere catch arguments, that time surely is not now. In times like the present men should utter nothing for which they would not willingly be responsible through time and in eternity. Is it true, then, that colored people can displace any more white labor by being free than by remaining slaves? If they stay in their old places, they jostle no white laborers; if they leave their old places, they leave them open to white laborers. Logically, there is neither more nor less of it. Emancipation, even without deportation, would probably enhance the wages of white labor, and very surely would not reduce them. Thus the customary amount of labor would still have to be performed—the freed people would surely not do more than their old proportion of it, and very probably for a time would do less, leaving an increased part to white laborers, bringing their labor into greater demand, and consequently enhancing the wages of it. With deportation, even to a limited extent, enhanced wages to white labor is mathematically certain. Labor is like any other commodity in the market—increase the demand for it and you increase the price of it. Reduce the supply of black labor by colonizing the black laborer out of the country, and by precisely so much you increase the demand for and wages of white labor.'),\n",
       " Document(metadata={'source': 'data/Lincoln_State_of_Union_1862.txt'}, page_content='Among the friends of the Union there is great diversity of sentiment and of policy in regard to slavery and the African race amongst us. Some would perpetuate slavery; some would abolish it suddenly and without compensation; some would abolish it gradually and with compensation: some would remove the freed people from us, and some would retain them with us; and there are yet other minor diversities. Because of these diversities we waste much strength in struggles among ourselves. By mutual concession we should harmonize and act together. This would be compromise, but it would be compromise among the friends and not with the enemies of the Union. These articles are intended to embody a plan of such mutual concessions. if the plan shall be adopted, it is assumed that emancipation will follow, at least in several of the States.\\n\\nAs to the first article, the main points are, first, the emancipation; secondly, the length of time for consummating it (thirty-seven years); and, thirdly, the compensation.'),\n",
       " Document(metadata={'source': 'data/Lincoln_State_of_Union_1862.txt'}, page_content='This fact would be no excuse for delaying payment of what is justly due, but it shows the great importance of time in this connection—the great advantage of a policy by which we shall not have to pay until we number 100,000,000 what by a different policy we would have to pay now, when we number but 31,000,000. In a word, it shows that a dollar will be much harder to pay for the war than will be a dollar for emancipation on the proposed plan. And then the latter will cost no blood, no precious life. It will be a saving of both.\\n\\nAs to the second article, I think it would be impracticable to return to bondage the class of persons therein contemplated. Some of them, doubtless, in the property sense belong to loyal owners, and hence provision is made in this article for compensating such. The third article relates to the future of the freed people. It does not oblige, but merely authorizes Congress to aid in colonizing such as may consent. This ought not to be regarded as objectionable on the one hand or on the other, insomuch as it comes to nothing unless by the mutual consent of the people to be deported and the American voters, through their representatives in Congress.\\n\\nI can not make it better known than it already is that I strongly favor colonization; and yet I wish to say there is an objection urged against free colored persons remaining in the country which is largely imaginary, if not sometimes malicious.'),\n",
       " Document(metadata={'source': 'data/Lincoln_State_of_Union_1862.txt'}, page_content=\"One section of our country believes slavery is right and ought to be extended, while the other believes it is wrong and ought not to be extended. This is the only substantial dispute. The fugitive-slave clause of the Constitution and the law for the suppression of the foreign slave trade are each as well enforced, perhaps, as any law can ever be in a community where the moral sense of the people imperfectly supports the law itself. The great body of the people abide by the dry legal obligation in both cases, and a few break over in each. This I think, can not be perfectly cured, and it would be worse in both cases after the separation of the sections than before. The foreign slave trade, now imperfectly suppressed, would be ultimately revived without restriction in one section, while fugitive slaves, now only partially surrendered, would not be surrendered at all by the other. Physically speaking, we can not separate. We can not remove our respective sections from each other nor build an impassable wall between them. A husband and wife may be divorced and go out of the presence and beyond the reach of each other, but the different parts of our country can not do this. They can not but remain face to face, and intercourse, either amicable or hostile, must continue between them, Is it possible, then, to make that intercourse more advantageous or more satisfactory after separation than before? Can aliens make treaties easier than friends can make laws? Can treaties be more faithfully enforced between aliens than laws can among friends? Suppose you go to war, you can not fight always; and when, after much loss on both sides and no gain on either, you cease fighting, the identical old questions, as to terms of intercourse, are again upon you.\\nThere is no line, straight or crooked, suitable for a national boundary upon which to divide. Trace through, from east to west, upon the line between the free and slave country. and we shall find a little more than one-third of its length are rivers, easy to be crossed, and populated, or soon to be populated, thickly upon both sides; while nearly all its remaining length are merely surveyors' lines, over which people may walk back and forth without any consciousness of their presence. No part of this line can be made any more difficult to pass by writing it down on paper or parchment as a national boundary. The fact of separation, if it comes, gives up on the part of the seceding section the fugitive-slave clause, along with all other constitutional obligations upon the section seceded from, while I should expect no treaty stipulation would ever be made to take its place.\")]"
      ]
     },
     "execution_count": 29,
     "metadata": {},
     "output_type": "execute_result"
    }
   ],
   "source": [
    "retriever.get_relevant_documents(\"slavery\")"
   ]
  },
  {
   "cell_type": "code",
   "execution_count": null,
   "id": "b70b8ace-44b9-444e-b467-4750b645a55e",
   "metadata": {},
   "outputs": [],
   "source": []
  }
 ],
 "metadata": {
  "kernelspec": {
   "display_name": "Python 3 (ipykernel)",
   "language": "python",
   "name": "python3"
  },
  "language_info": {
   "codemirror_mode": {
    "name": "ipython",
    "version": 3
   },
   "file_extension": ".py",
   "mimetype": "text/x-python",
   "name": "python",
   "nbconvert_exporter": "python",
   "pygments_lexer": "ipython3",
   "version": "3.12.4"
  }
 },
 "nbformat": 4,
 "nbformat_minor": 5
}
