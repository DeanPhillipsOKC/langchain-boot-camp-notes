{
 "cells": [
  {
   "cell_type": "code",
   "execution_count": 1,
   "id": "7941cd53-2aad-4d91-95fb-328a288f95a0",
   "metadata": {},
   "outputs": [],
   "source": [
    "import chromadb"
   ]
  },
  {
   "cell_type": "code",
   "execution_count": 3,
   "id": "1ae9b47a-5c0c-40e0-9aa5-ad1f71d7b835",
   "metadata": {},
   "outputs": [],
   "source": [
    "from langchain.embeddings import OpenAIEmbeddings\n",
    "from langchain.text_splitter import CharacterTextSplitter\n",
    "from langchain.vectorstores import Chroma\n",
    "from langchain.document_loaders import TextLoader"
   ]
  },
  {
   "cell_type": "markdown",
   "id": "e6eaae3e-6a8b-4210-b077-991e80bda7fa",
   "metadata": {},
   "source": [
    "# Open document"
   ]
  },
  {
   "cell_type": "code",
   "execution_count": 11,
   "id": "bd897f73-f912-42b9-bf85-472b4d8d7729",
   "metadata": {},
   "outputs": [],
   "source": [
    "loader = TextLoader(\"data/Lincoln_State_of_Union_1862.txt\")"
   ]
  },
  {
   "cell_type": "code",
   "execution_count": 17,
   "id": "87261b98-e22f-461a-82b9-0614806df4f3",
   "metadata": {},
   "outputs": [],
   "source": [
    "lincoln_speech_doc = loader.load()[0]"
   ]
  },
  {
   "cell_type": "markdown",
   "id": "4c88662e-d791-4142-bb45-ae6117a89c86",
   "metadata": {},
   "source": [
    "# Split document"
   ]
  },
  {
   "cell_type": "code",
   "execution_count": 16,
   "id": "fadd4522-a339-4c10-9668-e73bba59efaa",
   "metadata": {},
   "outputs": [],
   "source": [
    "splitter = CharacterTextSplitter.from_tiktoken_encoder(chunk_size=500)"
   ]
  },
  {
   "cell_type": "code",
   "execution_count": 18,
   "id": "3a7da96e-3a86-4e05-aef4-be8465914358",
   "metadata": {},
   "outputs": [
    {
     "name": "stderr",
     "output_type": "stream",
     "text": [
      "Created a chunk of size 608, which is longer than the specified 500\n",
      "Created a chunk of size 539, which is longer than the specified 500\n",
      "Created a chunk of size 686, which is longer than the specified 500\n"
     ]
    }
   ],
   "source": [
    "chunked_docs = splitter.split_documents([lincoln_speech_doc])"
   ]
  },
  {
   "cell_type": "markdown",
   "id": "0da2d52e-f543-4a96-b042-fa847fd03761",
   "metadata": {},
   "source": [
    "# Create and store embeddings"
   ]
  },
  {
   "cell_type": "code",
   "execution_count": 20,
   "id": "fa6f9858-9c33-4ddb-861c-160bce2d6e00",
   "metadata": {},
   "outputs": [],
   "source": [
    "embedding_function = OpenAIEmbeddings()"
   ]
  },
  {
   "cell_type": "code",
   "execution_count": 22,
   "id": "5b8dbd4f-79b7-48da-961d-7728648a4ced",
   "metadata": {},
   "outputs": [],
   "source": [
    "db = Chroma.from_documents(chunked_docs, embedding_function, persist_directory=\".speech_db\")"
   ]
  },
  {
   "cell_type": "code",
   "execution_count": 23,
   "id": "e1183808-a051-4dc5-ad87-38d8b8a9848e",
   "metadata": {},
   "outputs": [],
   "source": [
    "db.persist()"
   ]
  },
  {
   "cell_type": "markdown",
   "id": "91f18b21-4fe9-4065-8336-2dda8658da9e",
   "metadata": {},
   "source": [
    "# query database"
   ]
  },
  {
   "cell_type": "code",
   "execution_count": 25,
   "id": "679605df-86d1-4b4e-bb32-72cc1b954a5f",
   "metadata": {},
   "outputs": [],
   "source": [
    "db_connection = Chroma(persist_directory=\".speech_db\", embedding_function=embedding_function)"
   ]
  },
  {
   "cell_type": "code",
   "execution_count": null,
   "id": "ac90c7b7-4c89-42a7-9938-f4869559bf1d",
   "metadata": {},
   "outputs": [],
   "source": [
    "db_connection.sim"
   ]
  }
 ],
 "metadata": {
  "kernelspec": {
   "display_name": "Python 3 (ipykernel)",
   "language": "python",
   "name": "python3"
  },
  "language_info": {
   "codemirror_mode": {
    "name": "ipython",
    "version": 3
   },
   "file_extension": ".py",
   "mimetype": "text/x-python",
   "name": "python",
   "nbconvert_exporter": "python",
   "pygments_lexer": "ipython3",
   "version": "3.12.4"
  }
 },
 "nbformat": 4,
 "nbformat_minor": 5
}
