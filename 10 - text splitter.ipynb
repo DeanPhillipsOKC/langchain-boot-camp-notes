{
 "cells": [
  {
   "cell_type": "code",
   "execution_count": 1,
   "id": "e23127cd-b228-4e51-8d86-c7804c0ed1ce",
   "metadata": {},
   "outputs": [],
   "source": [
    "from langchain.text_splitter import CharacterTextSplitter"
   ]
  },
  {
   "cell_type": "code",
   "execution_count": 2,
   "id": "78026c34-832b-41a4-ab83-02978dbfff13",
   "metadata": {},
   "outputs": [],
   "source": [
    "with open(\"data/FDR_State_of_Union_1944.txt\") as file:\n",
    "    speech_text = file.read()"
   ]
  },
  {
   "cell_type": "code",
   "execution_count": 3,
   "id": "ab04c1d2-9566-4164-9b38-6100a3d34bb5",
   "metadata": {},
   "outputs": [
    {
     "data": {
      "text/plain": [
       "21927"
      ]
     },
     "execution_count": 3,
     "metadata": {},
     "output_type": "execute_result"
    }
   ],
   "source": [
    "len(speech_text)"
   ]
  },
  {
   "cell_type": "markdown",
   "id": "48d3ac3b-1ae6-449a-97f2-5283df362997",
   "metadata": {},
   "source": [
    "# With CharacterTextSplitter using separator and tokens"
   ]
  },
  {
   "cell_type": "code",
   "execution_count": 4,
   "id": "7eb7b38e-b34f-4394-9915-ea0588b573d6",
   "metadata": {},
   "outputs": [],
   "source": [
    "text_splitter = CharacterTextSplitter(separator=\"\\n\\n\", chunk_size=1000)"
   ]
  },
  {
   "cell_type": "code",
   "execution_count": 5,
   "id": "834a8534-d809-4dd0-9600-3acc6719e8cd",
   "metadata": {},
   "outputs": [],
   "source": [
    "texts = text_splitter.create_documents([speech_text])"
   ]
  },
  {
   "cell_type": "code",
   "execution_count": 6,
   "id": "04fa92cd-fe32-421a-9c8c-56deb32a911d",
   "metadata": {},
   "outputs": [
    {
     "data": {
      "text/plain": [
       "Document(page_content=\"This Nation in the past two years has become an active partner in the world's greatest war against human slavery.\\n\\nWe have joined with like-minded people in order to defend ourselves in a world that has been gravely threatened with gangster rule.\\n\\nBut I do not think that any of us Americans can be content with mere survival. Sacrifices that we and our allies are making impose upon us all a sacred obligation to see to it that out of this war we and our children will gain something better than mere survival.\\n\\nWe are united in determination that this war shall not be followed by another interim which leads to new disaster- that we shall not repeat the tragic errors of ostrich isolationism—that we shall not repeat the excesses of the wild twenties when this Nation went for a joy ride on a roller coaster which ended in a tragic crash.\")"
      ]
     },
     "execution_count": 6,
     "metadata": {},
     "output_type": "execute_result"
    }
   ],
   "source": [
    "texts[0]"
   ]
  },
  {
   "cell_type": "markdown",
   "id": "c426dd78-c956-4a76-b7b1-b9ecbd8616ed",
   "metadata": {},
   "source": [
    "# With token size"
   ]
  },
  {
   "cell_type": "code",
   "execution_count": 7,
   "id": "c6931bbb-68f9-4e56-9e2b-4060db676c90",
   "metadata": {},
   "outputs": [],
   "source": [
    "text_splitter = CharacterTextSplitter.from_tiktoken_encoder(chunk_size=500)"
   ]
  },
  {
   "cell_type": "code",
   "execution_count": 9,
   "id": "d51186ae-77a1-4024-8ef6-96de05b6af7b",
   "metadata": {},
   "outputs": [],
   "source": [
    "texts = text_splitter.split_text(speech_text)"
   ]
  },
  {
   "cell_type": "code",
   "execution_count": 10,
   "id": "f3985c42-5290-4cef-be8c-125e4df94380",
   "metadata": {},
   "outputs": [
    {
     "data": {
      "text/plain": [
       "'This Nation in the past two years has become an active partner in the world\\'s greatest war against human slavery.\\n\\nWe have joined with like-minded people in order to defend ourselves in a world that has been gravely threatened with gangster rule.\\n\\nBut I do not think that any of us Americans can be content with mere survival. Sacrifices that we and our allies are making impose upon us all a sacred obligation to see to it that out of this war we and our children will gain something better than mere survival.\\n\\nWe are united in determination that this war shall not be followed by another interim which leads to new disaster- that we shall not repeat the tragic errors of ostrich isolationism—that we shall not repeat the excesses of the wild twenties when this Nation went for a joy ride on a roller coaster which ended in a tragic crash.\\n\\nWhen Mr. Hull went to Moscow in October, and when I went to Cairo and Teheran in November, we knew that we were in agreement with our allies in our common determination to fight and win this war. But there were many vital questions concerning the future peace, and they were discussed in an atmosphere of complete candor and harmony.\\n\\nIn the last war such discussions, such meetings, did not even begin until the shooting had stopped and the delegates began to assemble at the peace table. There had been no previous opportunities for man-to-man discussions which lead to meetings of minds. The result was a peace which was not a peace. That was a mistake which we are not repeating in this war.\\n\\nAnd right here I want to address a word or two to some suspicious souls who are fearful that Mr. Hull or I have made \"commitments\" for the future which might pledge this Nation to secret treaties, or to enacting the role of Santa Claus.\\n\\nTo such suspicious souls—using a polite terminology—I wish to say that Mr. Churchill, and Marshal Stalin, and Generalissimo Chiang Kai-shek are all thoroughly conversant with the provisions of our Constitution. And so is Mr. Hull. And so am I.\\n\\nOf course we made some commitments. We most certainly committed ourselves to very large and very specific military plans which require the use of all Allied forces to bring about the defeat of our enemies at the earliest possible time.\\n\\nBut there were no secret treaties or political or financial commitments.'"
      ]
     },
     "execution_count": 10,
     "metadata": {},
     "output_type": "execute_result"
    }
   ],
   "source": [
    "texts[0]"
   ]
  },
  {
   "cell_type": "code",
   "execution_count": null,
   "id": "c55ce82c-87a1-4ff2-a81c-be601520fe5d",
   "metadata": {},
   "outputs": [],
   "source": []
  }
 ],
 "metadata": {
  "kernelspec": {
   "display_name": "Python 3 (ipykernel)",
   "language": "python",
   "name": "python3"
  },
  "language_info": {
   "codemirror_mode": {
    "name": "ipython",
    "version": 3
   },
   "file_extension": ".py",
   "mimetype": "text/x-python",
   "name": "python",
   "nbconvert_exporter": "python",
   "pygments_lexer": "ipython3",
   "version": "3.12.4"
  }
 },
 "nbformat": 4,
 "nbformat_minor": 5
}
