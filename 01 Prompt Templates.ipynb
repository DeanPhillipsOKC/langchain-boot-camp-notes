{
 "cells": [
  {
   "cell_type": "code",
   "execution_count": 23,
   "id": "989c86c9-3c05-4d64-9106-0046e90ecc64",
   "metadata": {},
   "outputs": [
    {
     "name": "stdout",
     "output_type": "stream",
     "text": [
      "Requirement already satisfied: langchain in /usr/local/Cellar/jupyterlab/4.2.3/libexec/lib/python3.12/site-packages (0.2.12)\n",
      "Requirement already satisfied: langchain_community in /usr/local/Cellar/jupyterlab/4.2.3/libexec/lib/python3.12/site-packages (0.2.11)\n",
      "Requirement already satisfied: langchain-openai in /usr/local/Cellar/jupyterlab/4.2.3/libexec/lib/python3.12/site-packages (0.1.20)\n",
      "Requirement already satisfied: pydantic in /usr/local/Cellar/jupyterlab/4.2.3/libexec/lib/python3.12/site-packages (2.8.2)\n",
      "Requirement already satisfied: pypdf in /usr/local/Cellar/jupyterlab/4.2.3/libexec/lib/python3.12/site-packages (4.3.1)\n",
      "Requirement already satisfied: beautifulsoup4 in /usr/local/Cellar/jupyterlab/4.2.3/libexec/lib/python3.12/site-packages (4.12.3)\n",
      "Collecting lxml\n",
      "  Downloading lxml-5.3.0-cp312-cp312-macosx_10_9_x86_64.whl.metadata (3.8 kB)\n",
      "Requirement already satisfied: PyYAML>=5.3 in /usr/local/Cellar/jupyterlab/4.2.3/libexec/lib/python3.12/site-packages (from langchain) (6.0.1)\n",
      "Requirement already satisfied: SQLAlchemy<3,>=1.4 in /usr/local/Cellar/jupyterlab/4.2.3/libexec/lib/python3.12/site-packages (from langchain) (2.0.31)\n",
      "Requirement already satisfied: aiohttp<4.0.0,>=3.8.3 in /usr/local/Cellar/jupyterlab/4.2.3/libexec/lib/python3.12/site-packages (from langchain) (3.10.0)\n",
      "Requirement already satisfied: langchain-core<0.3.0,>=0.2.27 in /usr/local/Cellar/jupyterlab/4.2.3/libexec/lib/python3.12/site-packages (from langchain) (0.2.28)\n",
      "Requirement already satisfied: langchain-text-splitters<0.3.0,>=0.2.0 in /usr/local/Cellar/jupyterlab/4.2.3/libexec/lib/python3.12/site-packages (from langchain) (0.2.2)\n",
      "Requirement already satisfied: langsmith<0.2.0,>=0.1.17 in /usr/local/Cellar/jupyterlab/4.2.3/libexec/lib/python3.12/site-packages (from langchain) (0.1.96)\n",
      "Requirement already satisfied: numpy<2.0.0,>=1.26.0 in /usr/local/Cellar/jupyterlab/4.2.3/libexec/lib/python3.12/site-packages (from langchain) (1.26.4)\n",
      "Requirement already satisfied: requests<3,>=2 in /usr/local/Cellar/jupyterlab/4.2.3/libexec/lib/python3.12/site-packages (from langchain) (2.32.3)\n",
      "Requirement already satisfied: tenacity!=8.4.0,<9.0.0,>=8.1.0 in /usr/local/Cellar/jupyterlab/4.2.3/libexec/lib/python3.12/site-packages (from langchain) (8.5.0)\n",
      "Requirement already satisfied: dataclasses-json<0.7,>=0.5.7 in /usr/local/Cellar/jupyterlab/4.2.3/libexec/lib/python3.12/site-packages (from langchain_community) (0.6.7)\n",
      "Requirement already satisfied: openai<2.0.0,>=1.32.0 in /usr/local/Cellar/jupyterlab/4.2.3/libexec/lib/python3.12/site-packages (from langchain-openai) (1.38.0)\n",
      "Requirement already satisfied: tiktoken<1,>=0.7 in /usr/local/Cellar/jupyterlab/4.2.3/libexec/lib/python3.12/site-packages (from langchain-openai) (0.7.0)\n",
      "Requirement already satisfied: annotated-types>=0.4.0 in /usr/local/Cellar/jupyterlab/4.2.3/libexec/lib/python3.12/site-packages (from pydantic) (0.7.0)\n",
      "Requirement already satisfied: pydantic-core==2.20.1 in /usr/local/Cellar/jupyterlab/4.2.3/libexec/lib/python3.12/site-packages (from pydantic) (2.20.1)\n",
      "Requirement already satisfied: typing-extensions>=4.6.1 in /usr/local/Cellar/jupyterlab/4.2.3/libexec/lib/python3.12/site-packages (from pydantic) (4.12.2)\n",
      "Requirement already satisfied: soupsieve>1.2 in /usr/local/Cellar/jupyterlab/4.2.3/libexec/lib/python3.12/site-packages (from beautifulsoup4) (2.5)\n",
      "Requirement already satisfied: aiohappyeyeballs>=2.3.0 in /usr/local/Cellar/jupyterlab/4.2.3/libexec/lib/python3.12/site-packages (from aiohttp<4.0.0,>=3.8.3->langchain) (2.3.4)\n",
      "Requirement already satisfied: aiosignal>=1.1.2 in /usr/local/Cellar/jupyterlab/4.2.3/libexec/lib/python3.12/site-packages (from aiohttp<4.0.0,>=3.8.3->langchain) (1.3.1)\n",
      "Requirement already satisfied: attrs>=17.3.0 in /usr/local/Cellar/jupyterlab/4.2.3/libexec/lib/python3.12/site-packages (from aiohttp<4.0.0,>=3.8.3->langchain) (23.2.0)\n",
      "Requirement already satisfied: frozenlist>=1.1.1 in /usr/local/Cellar/jupyterlab/4.2.3/libexec/lib/python3.12/site-packages (from aiohttp<4.0.0,>=3.8.3->langchain) (1.4.1)\n",
      "Requirement already satisfied: multidict<7.0,>=4.5 in /usr/local/Cellar/jupyterlab/4.2.3/libexec/lib/python3.12/site-packages (from aiohttp<4.0.0,>=3.8.3->langchain) (6.0.5)\n",
      "Requirement already satisfied: yarl<2.0,>=1.0 in /usr/local/Cellar/jupyterlab/4.2.3/libexec/lib/python3.12/site-packages (from aiohttp<4.0.0,>=3.8.3->langchain) (1.9.4)\n",
      "Requirement already satisfied: marshmallow<4.0.0,>=3.18.0 in /usr/local/Cellar/jupyterlab/4.2.3/libexec/lib/python3.12/site-packages (from dataclasses-json<0.7,>=0.5.7->langchain_community) (3.21.3)\n",
      "Requirement already satisfied: typing-inspect<1,>=0.4.0 in /usr/local/Cellar/jupyterlab/4.2.3/libexec/lib/python3.12/site-packages (from dataclasses-json<0.7,>=0.5.7->langchain_community) (0.9.0)\n",
      "Requirement already satisfied: jsonpatch<2.0,>=1.33 in /usr/local/Cellar/jupyterlab/4.2.3/libexec/lib/python3.12/site-packages (from langchain-core<0.3.0,>=0.2.27->langchain) (1.33)\n",
      "Requirement already satisfied: packaging<25,>=23.2 in /usr/local/Cellar/jupyterlab/4.2.3/libexec/lib/python3.12/site-packages (from langchain-core<0.3.0,>=0.2.27->langchain) (24.1)\n",
      "Requirement already satisfied: orjson<4.0.0,>=3.9.14 in /usr/local/Cellar/jupyterlab/4.2.3/libexec/lib/python3.12/site-packages (from langsmith<0.2.0,>=0.1.17->langchain) (3.10.6)\n",
      "Requirement already satisfied: anyio<5,>=3.5.0 in /usr/local/Cellar/jupyterlab/4.2.3/libexec/lib/python3.12/site-packages (from openai<2.0.0,>=1.32.0->langchain-openai) (4.4.0)\n",
      "Requirement already satisfied: distro<2,>=1.7.0 in /usr/local/Cellar/jupyterlab/4.2.3/libexec/lib/python3.12/site-packages (from openai<2.0.0,>=1.32.0->langchain-openai) (1.9.0)\n",
      "Requirement already satisfied: httpx<1,>=0.23.0 in /usr/local/Cellar/jupyterlab/4.2.3/libexec/lib/python3.12/site-packages (from openai<2.0.0,>=1.32.0->langchain-openai) (0.27.0)\n",
      "Requirement already satisfied: sniffio in /usr/local/Cellar/jupyterlab/4.2.3/libexec/lib/python3.12/site-packages (from openai<2.0.0,>=1.32.0->langchain-openai) (1.3.1)\n",
      "Requirement already satisfied: tqdm>4 in /usr/local/Cellar/jupyterlab/4.2.3/libexec/lib/python3.12/site-packages (from openai<2.0.0,>=1.32.0->langchain-openai) (4.66.4)\n",
      "Requirement already satisfied: charset-normalizer<4,>=2 in /usr/local/Cellar/jupyterlab/4.2.3/libexec/lib/python3.12/site-packages (from requests<3,>=2->langchain) (3.3.2)\n",
      "Requirement already satisfied: idna<4,>=2.5 in /usr/local/Cellar/jupyterlab/4.2.3/libexec/lib/python3.12/site-packages (from requests<3,>=2->langchain) (3.7)\n",
      "Requirement already satisfied: urllib3<3,>=1.21.1 in /usr/local/Cellar/jupyterlab/4.2.3/libexec/lib/python3.12/site-packages (from requests<3,>=2->langchain) (2.2.2)\n",
      "Requirement already satisfied: certifi>=2017.4.17 in /usr/local/opt/certifi/lib/python3.12/site-packages (from requests<3,>=2->langchain) (2024.7.4)\n",
      "Requirement already satisfied: greenlet!=0.4.17 in /usr/local/Cellar/jupyterlab/4.2.3/libexec/lib/python3.12/site-packages (from SQLAlchemy<3,>=1.4->langchain) (3.0.3)\n",
      "Requirement already satisfied: regex>=2022.1.18 in /usr/local/Cellar/jupyterlab/4.2.3/libexec/lib/python3.12/site-packages (from tiktoken<1,>=0.7->langchain-openai) (2024.7.24)\n",
      "Requirement already satisfied: httpcore==1.* in /usr/local/Cellar/jupyterlab/4.2.3/libexec/lib/python3.12/site-packages (from httpx<1,>=0.23.0->openai<2.0.0,>=1.32.0->langchain-openai) (1.0.5)\n",
      "Requirement already satisfied: h11<0.15,>=0.13 in /usr/local/Cellar/jupyterlab/4.2.3/libexec/lib/python3.12/site-packages (from httpcore==1.*->httpx<1,>=0.23.0->openai<2.0.0,>=1.32.0->langchain-openai) (0.14.0)\n",
      "Requirement already satisfied: jsonpointer>=1.9 in /usr/local/Cellar/jupyterlab/4.2.3/libexec/lib/python3.12/site-packages (from jsonpatch<2.0,>=1.33->langchain-core<0.3.0,>=0.2.27->langchain) (3.0.0)\n",
      "Requirement already satisfied: mypy-extensions>=0.3.0 in /usr/local/Cellar/jupyterlab/4.2.3/libexec/lib/python3.12/site-packages (from typing-inspect<1,>=0.4.0->dataclasses-json<0.7,>=0.5.7->langchain_community) (1.0.0)\n",
      "Downloading lxml-5.3.0-cp312-cp312-macosx_10_9_x86_64.whl (4.4 MB)\n",
      "\u001b[2K   \u001b[38;2;114;156;31m━━━━━━━━━━━━━━━━━━━━━━━━━━━━━━━━━━━━━━━━\u001b[0m \u001b[32m4.4/4.4 MB\u001b[0m \u001b[31m9.8 MB/s\u001b[0m eta \u001b[36m0:00:00\u001b[0m0m eta \u001b[36m0:00:01\u001b[0m36m0:00:01\u001b[0mm\n",
      "\u001b[?25hInstalling collected packages: lxml\n",
      "Successfully installed lxml-5.3.0\n",
      "\n",
      "\u001b[1m[\u001b[0m\u001b[34;49mnotice\u001b[0m\u001b[1;39;49m]\u001b[0m\u001b[39;49m A new release of pip is available: \u001b[0m\u001b[31;49m24.0\u001b[0m\u001b[39;49m -> \u001b[0m\u001b[32;49m24.2\u001b[0m\n",
      "\u001b[1m[\u001b[0m\u001b[34;49mnotice\u001b[0m\u001b[1;39;49m]\u001b[0m\u001b[39;49m To update, run: \u001b[0m\u001b[32;49m/usr/local/Cellar/jupyterlab/4.2.3/libexec/bin/python -m pip install --upgrade pip\u001b[0m\n",
      "Note: you may need to restart the kernel to use updated packages.\n"
     ]
    }
   ],
   "source": [
    "%pip install langchain langchain_community langchain-openai pydantic pypdf beautifulsoup4 lxml"
   ]
  },
  {
   "cell_type": "markdown",
   "id": "faeb8bb2-e9e5-430f-a6d2-756889796a19",
   "metadata": {},
   "source": [
    "## A quick test to make sure everything is working right"
   ]
  },
  {
   "cell_type": "code",
   "execution_count": 1,
   "id": "015c5289-c611-4b1e-8686-9bac7b606931",
   "metadata": {},
   "outputs": [],
   "source": [
    "from langchain_openai.llms import OpenAI"
   ]
  },
  {
   "cell_type": "code",
   "execution_count": 2,
   "id": "d83ca677-ca42-4043-947c-09055b135de7",
   "metadata": {},
   "outputs": [],
   "source": [
    "llm = OpenAI()"
   ]
  },
  {
   "cell_type": "code",
   "execution_count": 4,
   "id": "81d2857f-0cc4-43c8-9953-7c9c4e83c48c",
   "metadata": {},
   "outputs": [
    {
     "name": "stdout",
     "output_type": "stream",
     "text": [
      "\n",
      "\n",
      "Mars is named after the Roman god of war because of its reddish appearance, which is caused by iron oxide (rust) on its surface.\n"
     ]
    }
   ],
   "source": [
    "print(llm.invoke(\"Tell me a fun fact about Mars\"))"
   ]
  },
  {
   "cell_type": "markdown",
   "id": "0c67002d-c47f-4f58-b818-41ae3a6dbf0a",
   "metadata": {},
   "source": [
    "## Travel agent lab"
   ]
  },
  {
   "cell_type": "code",
   "execution_count": 18,
   "id": "1c065cb9-8175-44d8-a346-deccd42b5b8f",
   "metadata": {},
   "outputs": [],
   "source": [
    "from langchain.prompts import ChatPromptTemplate, PromptTemplate, SystemMessagePromptTemplate, HumanMessagePromptTemplate\n",
    "from langchain_openai.chat_models import ChatOpenAI"
   ]
  },
  {
   "cell_type": "code",
   "execution_count": 6,
   "id": "8f1253b4-b933-48aa-9f99-024b60e356ef",
   "metadata": {},
   "outputs": [],
   "source": [
    "system_template = \"You are a helpful travel agent that creates itineraries based on an interest of {interest} with a budget of {budget}\""
   ]
  },
  {
   "cell_type": "code",
   "execution_count": 7,
   "id": "923b615b-2a82-445c-a31b-8be056c172a8",
   "metadata": {},
   "outputs": [],
   "source": [
    "system_message_prompt = SystemMessagePromptTemplate.from_template(system_template)"
   ]
  },
  {
   "cell_type": "code",
   "execution_count": 8,
   "id": "5d593c04-3a75-4974-9e0f-d66d515cd4d9",
   "metadata": {},
   "outputs": [],
   "source": [
    "human_template = \"I am interested in {interest}.  The budget I have to work with is {budget}\""
   ]
  },
  {
   "cell_type": "code",
   "execution_count": 9,
   "id": "b3cdbf41-6edf-42fb-9b6d-bdfd59c4b97b",
   "metadata": {},
   "outputs": [],
   "source": [
    "human_message_prompt = HumanMessagePromptTemplate.from_template(human_template)"
   ]
  },
  {
   "cell_type": "code",
   "execution_count": 10,
   "id": "458eab11-a8e4-4d3c-80bc-b16152ec189d",
   "metadata": {},
   "outputs": [],
   "source": [
    "chat_prompt = ChatPromptTemplate.from_messages([system_message_prompt, human_message_prompt])"
   ]
  },
  {
   "cell_type": "code",
   "execution_count": 11,
   "id": "dca935f5-67e7-4617-bdeb-4219c23be127",
   "metadata": {},
   "outputs": [],
   "source": [
    "prompt = chat_prompt.format_prompt(interest=\"fishing\", budget=\"1000 dollars\").to_messages()"
   ]
  },
  {
   "cell_type": "code",
   "execution_count": 14,
   "id": "4a216939-037d-4875-970a-ae9a0b157813",
   "metadata": {},
   "outputs": [],
   "source": [
    "chat = ChatOpenAI()"
   ]
  },
  {
   "cell_type": "code",
   "execution_count": 17,
   "id": "b3bc98f4-4f82-45d7-9630-45da38f276b7",
   "metadata": {},
   "outputs": [
    {
     "name": "stdout",
     "output_type": "stream",
     "text": [
      "Great choice! With a budget of $1000, there are plenty of fantastic fishing destinations and experiences to choose from. Here's a suggested itinerary for a memorable fishing trip within your budget:\n",
      "\n",
      "Destination: Key West, Florida\n",
      "\n",
      "Day 1-3: Key West Fishing Charter Experience\n",
      "- Book a 3-day fishing charter trip in Key West, known for its excellent fishing opportunities. The charter typically includes a knowledgeable guide, fishing gear, and access to prime fishing spots for species like tarpon, marlin, tuna, and more. Cost: $600 (approx. for a 3-day charter).\n",
      "\n",
      "Day 4: Key West Fishing Excursion\n",
      "- Spend a day on a fishing excursion from Key West. You can opt for a half-day or full-day trip, depending on your preference. Enjoy the thrill of catching various fish species while soaking in the beautiful surroundings of Key West. Cost: $150 (approx. for a full-day excursion).\n",
      "\n",
      "Day 5: Explore Key West\n",
      "- Take some time to explore Key West beyond fishing. Visit local attractions like the Ernest Hemingway Home and Museum, Mallory Square, and the Key West Aquarium. Enjoy fresh seafood at a waterfront restaurant and relax on the beach. Cost: $100 (approx. for activities and meals).\n",
      "\n",
      "Day 6: Travel back home\n",
      "- Head back home with wonderful memories of your fishing adventure in Key West.\n",
      "\n",
      "Total Estimated Cost: $850 (excluding travel expenses to/from Key West)\n",
      "\n",
      "Please note that prices are approximate and may vary based on the season, availability, and specific fishing charters/excursions chosen. Be sure to book in advance and confirm all details with the tour operators. Enjoy your fishing trip!\n"
     ]
    }
   ],
   "source": [
    "print(chat.invoke(prompt).content)"
   ]
  },
  {
   "cell_type": "code",
   "execution_count": null,
   "id": "9a2afe20-ac33-428f-b176-75edd942fed2",
   "metadata": {},
   "outputs": [],
   "source": []
  }
 ],
 "metadata": {
  "kernelspec": {
   "display_name": "Python 3 (ipykernel)",
   "language": "python",
   "name": "python3"
  },
  "language_info": {
   "codemirror_mode": {
    "name": "ipython",
    "version": 3
   },
   "file_extension": ".py",
   "mimetype": "text/x-python",
   "name": "python",
   "nbconvert_exporter": "python",
   "pygments_lexer": "ipython3",
   "version": "3.12.4"
  }
 },
 "nbformat": 4,
 "nbformat_minor": 5
}
