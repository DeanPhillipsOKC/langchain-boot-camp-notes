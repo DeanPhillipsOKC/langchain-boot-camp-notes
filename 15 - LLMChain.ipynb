{
 "cells": [
  {
   "cell_type": "code",
   "execution_count": 6,
   "id": "7a2e5612-c212-4d0c-bb67-1dba01a939a7",
   "metadata": {},
   "outputs": [],
   "source": [
    "from langchain.chat_models import ChatOpenAI\n",
    "from langchain.prompts import ChatPromptTemplate, HumanMessagePromptTemplate"
   ]
  },
  {
   "cell_type": "code",
   "execution_count": 4,
   "id": "a7f9e8f9-95d5-4870-b2d5-1be4dc92aac2",
   "metadata": {},
   "outputs": [],
   "source": [
    "human_prompt_template = HumanMessagePromptTemplate.from_template(\"Make up a funny company name for a company that sells: {product}\")"
   ]
  },
  {
   "cell_type": "code",
   "execution_count": 7,
   "id": "41338945-8259-4bbe-aaac-9c728486d4ff",
   "metadata": {},
   "outputs": [],
   "source": [
    "chat_prompt_template = ChatPromptTemplate.from_messages([human_prompt_template])"
   ]
  },
  {
   "cell_type": "code",
   "execution_count": 8,
   "id": "cf5dca20-80ee-4a4e-8812-2e72e9d6a6a8",
   "metadata": {},
   "outputs": [],
   "source": [
    "llm = ChatOpenAI()"
   ]
  },
  {
   "cell_type": "code",
   "execution_count": 9,
   "id": "812fa4bb-9482-4005-b500-f67bf1708cf9",
   "metadata": {},
   "outputs": [],
   "source": [
    "from langchain.chains import LLMChain"
   ]
  },
  {
   "cell_type": "code",
   "execution_count": 10,
   "id": "d5f03836-d44c-46f3-9a5b-937cf859ae72",
   "metadata": {},
   "outputs": [],
   "source": [
    "chain = LLMChain(llm=llm, prompt=chat_prompt_template)"
   ]
  },
  {
   "cell_type": "code",
   "execution_count": 13,
   "id": "04ff9e14-eff1-4db7-9a45-c7f4bcdd6e11",
   "metadata": {},
   "outputs": [
    {
     "data": {
      "text/plain": [
       "\"Byte Me Computers - We'll byte your computer needs in no time!\""
      ]
     },
     "execution_count": 13,
     "metadata": {},
     "output_type": "execute_result"
    }
   ],
   "source": [
    "chain.run(product = \"Computers\")"
   ]
  },
  {
   "cell_type": "code",
   "execution_count": null,
   "id": "cfca4d68-d462-4051-bf9c-2a7a2290274b",
   "metadata": {},
   "outputs": [],
   "source": []
  }
 ],
 "metadata": {
  "kernelspec": {
   "display_name": "Python 3 (ipykernel)",
   "language": "python",
   "name": "python3"
  },
  "language_info": {
   "codemirror_mode": {
    "name": "ipython",
    "version": 3
   },
   "file_extension": ".py",
   "mimetype": "text/x-python",
   "name": "python",
   "nbconvert_exporter": "python",
   "pygments_lexer": "ipython3",
   "version": "3.12.4"
  }
 },
 "nbformat": 4,
 "nbformat_minor": 5
}
