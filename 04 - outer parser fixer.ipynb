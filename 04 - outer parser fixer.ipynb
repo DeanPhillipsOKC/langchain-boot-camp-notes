{
 "cells": [
  {
   "cell_type": "code",
   "execution_count": 1,
   "id": "b4f8afe1-7a12-4b0a-87ba-84edcd37403d",
   "metadata": {},
   "outputs": [],
   "source": [
    "from langchain.prompts import ChatPromptTemplate, PromptTemplate, SystemMessagePromptTemplate, HumanMessagePromptTemplate, AIMessagePromptTemplate\n",
    "from langchain_openai.chat_models import ChatOpenAI"
   ]
  },
  {
   "cell_type": "code",
   "execution_count": 2,
   "id": "2510818e-1be3-417f-a993-ba6268d27b68",
   "metadata": {},
   "outputs": [],
   "source": [
    "from langchain.output_parsers import DatetimeOutputParser"
   ]
  },
  {
   "cell_type": "code",
   "execution_count": 4,
   "id": "be70e8f5-6a05-4f68-8c22-d0d3b53e0a07",
   "metadata": {},
   "outputs": [],
   "source": [
    "output_parser = DatetimeOutputParser()"
   ]
  },
  {
   "cell_type": "code",
   "execution_count": 45,
   "id": "31e95493-e322-46e9-befd-76e73436875c",
   "metadata": {},
   "outputs": [],
   "source": [
    "template_text = \"{request}\\n{format_instructions}\"\n",
    "human_prompt = HumanMessagePromptTemplate.from_template(template_text)\n",
    "\n",
    "# OPTION 1: One way to make sure output always has a correct format is to use a system prompt\n",
    "# system_prompt = SystemMessagePromptTemplate.from_template(\"You only respond to questions with a singe datetime timestamp\")\n",
    "\n",
    "# HACK: In order to demonstrate the output fixing parswer, I  need to make sure something invalid is returned\n",
    "#       so adding FOO: as a prefix to the output so that it is an invalid timestamp\n",
    "system_prompt = SystemMessagePromptTemplate.from_template(\"You always add FOO: followed by a datetime timestamp when responding to questions\")"
   ]
  },
  {
   "cell_type": "code",
   "execution_count": 46,
   "id": "111d1ca0-e1c3-4fe2-89ea-de388faa9914",
   "metadata": {},
   "outputs": [],
   "source": [
    "chat_prompt = ChatPromptTemplate.from_messages([system_prompt, human_prompt])"
   ]
  },
  {
   "cell_type": "code",
   "execution_count": 47,
   "id": "aafa16cd-e0fe-43d0-b116-d0e48ffe0555",
   "metadata": {},
   "outputs": [],
   "source": [
    "model_request = chat_prompt.format_prompt(request=\"What date was the 13th amendment ratified in the US?\",\n",
    "                          format_instructions=output_parser.get_format_instructions()).to_messages()"
   ]
  },
  {
   "cell_type": "code",
   "execution_count": 48,
   "id": "1184995a-3dea-4662-9af7-68073074df0e",
   "metadata": {},
   "outputs": [],
   "source": [
    "model = ChatOpenAI()"
   ]
  },
  {
   "cell_type": "code",
   "execution_count": 72,
   "id": "d89466e5-9956-4c1d-b2f0-46fb411fe206",
   "metadata": {},
   "outputs": [],
   "source": [
    "result = model.invoke(model_request)"
   ]
  },
  {
   "cell_type": "code",
   "execution_count": 74,
   "id": "c29b1cff-4a91-4ddd-9960-4f500fc9880a",
   "metadata": {},
   "outputs": [],
   "source": [
    "# output_parser.parse(result.content)"
   ]
  },
  {
   "cell_type": "code",
   "execution_count": 57,
   "id": "cce06788-9a1e-4fb8-87cb-47bf1e342958",
   "metadata": {},
   "outputs": [],
   "source": [
    "misformatted = result.content"
   ]
  },
  {
   "cell_type": "code",
   "execution_count": 58,
   "id": "e7f85fde-76e8-47a0-bdbe-f3301523807f",
   "metadata": {},
   "outputs": [],
   "source": [
    "from langchain.output_parsers import OutputFixingParser\n",
    "\n",
    "fixing_parser = OutputFixingParser.from_llm(parser=output_parser, llm=model)"
   ]
  },
  {
   "cell_type": "code",
   "execution_count": 71,
   "id": "399ff5de-b2ad-4e96-b2d6-5d845736c842",
   "metadata": {},
   "outputs": [
    {
     "data": {
      "text/plain": [
       "datetime.datetime(1865, 12, 6, 0, 0)"
      ]
     },
     "execution_count": 71,
     "metadata": {},
     "output_type": "execute_result"
    }
   ],
   "source": [
    "fixed_result = fixing_parser.parse(misformatted)\n",
    "fixed_result"
   ]
  },
  {
   "cell_type": "code",
   "execution_count": null,
   "id": "9a63a6e3-e87b-4e1a-beb7-d04657d5c359",
   "metadata": {},
   "outputs": [],
   "source": []
  }
 ],
 "metadata": {
  "kernelspec": {
   "display_name": "Python 3 (ipykernel)",
   "language": "python",
   "name": "python3"
  },
  "language_info": {
   "codemirror_mode": {
    "name": "ipython",
    "version": 3
   },
   "file_extension": ".py",
   "mimetype": "text/x-python",
   "name": "python",
   "nbconvert_exporter": "python",
   "pygments_lexer": "ipython3",
   "version": "3.12.4"
  }
 },
 "nbformat": 4,
 "nbformat_minor": 5
}
