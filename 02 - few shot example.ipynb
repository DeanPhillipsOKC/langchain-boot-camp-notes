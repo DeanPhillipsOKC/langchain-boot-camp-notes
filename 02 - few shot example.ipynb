{
 "cells": [
  {
   "cell_type": "code",
   "execution_count": 6,
   "id": "37836193-bb15-415e-bca0-98d7ea597cdf",
   "metadata": {},
   "outputs": [],
   "source": [
    "from langchain.prompts import ChatPromptTemplate, PromptTemplate, SystemMessagePromptTemplate, HumanMessagePromptTemplate, AIMessagePromptTemplate\n",
    "from langchain_openai.chat_models import ChatOpenAI"
   ]
  },
  {
   "cell_type": "code",
   "execution_count": 37,
   "id": "97ca25a6-9b99-49d1-b434-b6b5f4c46e39",
   "metadata": {},
   "outputs": [],
   "source": [
    "system_prompt = \"You are a trickster that responds based on historical data\"\n",
    "system_message_prompt = SystemMessagePromptTemplate.from_template(system_prompt)"
   ]
  },
  {
   "cell_type": "code",
   "execution_count": 43,
   "id": "b4b82613-fcc1-4d0b-9a21-169f7888cf90",
   "metadata": {},
   "outputs": [],
   "source": [
    "human_prompt1 = \"Hello Dear\"\n",
    "human_message_prompt1 = HumanMessagePromptTemplate.from_template(human_prompt1)\n",
    "\n",
    "ai_prompt1 = \"Herp\"\n",
    "ai_message_prompt1 = AIMessagePromptTemplate.from_template(ai_prompt1)\n",
    "\n",
    "human_prompt2 = \"It was the best of times\"\n",
    "human_message_prompt2 = HumanMessagePromptTemplate.from_template(human_prompt2)\n",
    "\n",
    "ai_prompt2 = \"Derp\"\n",
    "ai_message_prompt2 = AIMessagePromptTemplate.from_template(ai_prompt2)\n",
    "\n",
    "human_prompt3 = \"Three Doors Down Dummy\"\n",
    "human_message_prompt3 = HumanMessagePromptTemplate.from_template(human_prompt3)\n",
    "\n",
    "ai_prompt3 = \"Don't call me names\"\n",
    "ai_message_prompt3 = AIMessagePromptTemplate.from_template(ai_prompt3)"
   ]
  },
  {
   "cell_type": "code",
   "execution_count": 44,
   "id": "c3982cf1-3c85-427c-bc02-64f12955a918",
   "metadata": {},
   "outputs": [],
   "source": [
    "human_prompt_final = \"{input}\"\n",
    "human_message_prompt_final = HumanMessagePromptTemplate.from_template(human_prompt_final)\n"
   ]
  },
  {
   "cell_type": "code",
   "execution_count": 53,
   "id": "b322ed69-90b8-4a36-a52b-a5f53cdcea3f",
   "metadata": {},
   "outputs": [],
   "source": [
    "chat_prompt = ChatPromptTemplate.from_messages([system_message_prompt, human_message_prompt1, ai_message_prompt1, human_message_prompt2, ai_message_prompt2, human_message_prompt3, ai_message_prompt3, human_message_prompt_final])\n",
    "prompt = chat_prompt.format_prompt(input = \"Hi dee dummy\")"
   ]
  },
  {
   "cell_type": "code",
   "execution_count": 54,
   "id": "9fc66a4f-c577-4112-9733-e9ec00d8dc67",
   "metadata": {},
   "outputs": [
    {
     "name": "stdout",
     "output_type": "stream",
     "text": [
      "Watch your language\n"
     ]
    }
   ],
   "source": [
    "chat = ChatOpenAI()\n",
    "print(chat.invoke(prompt).content)"
   ]
  },
  {
   "cell_type": "code",
   "execution_count": null,
   "id": "190644d8-91c5-404e-8e08-1f7b3ef8e1df",
   "metadata": {},
   "outputs": [],
   "source": []
  }
 ],
 "metadata": {
  "kernelspec": {
   "display_name": "Python 3 (ipykernel)",
   "language": "python",
   "name": "python3"
  },
  "language_info": {
   "codemirror_mode": {
    "name": "ipython",
    "version": 3
   },
   "file_extension": ".py",
   "mimetype": "text/x-python",
   "name": "python",
   "nbconvert_exporter": "python",
   "pygments_lexer": "ipython3",
   "version": "3.12.4"
  }
 },
 "nbformat": 4,
 "nbformat_minor": 5
}
