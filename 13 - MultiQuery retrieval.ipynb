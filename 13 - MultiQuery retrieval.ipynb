{
 "cells": [
  {
   "cell_type": "code",
   "execution_count": 17,
   "id": "36f24ade-7f9f-4c48-934f-d6b47bb0028d",
   "metadata": {},
   "outputs": [],
   "source": [
    "from langchain.document_loaders import WikipediaLoader\n",
    "from langchain.text_splitter import CharacterTextSplitter\n",
    "from langchain.vectorstores import Chroma\n",
    "from langchain.embeddings import OpenAIEmbeddings\n",
    "from langchain.retrievers import MultiQueryRetriever\n",
    "from langchain.chat_models import ChatOpenAI"
   ]
  },
  {
   "cell_type": "code",
   "execution_count": 2,
   "id": "fbbc1387-07d7-49d3-8c16-b279d5790c82",
   "metadata": {},
   "outputs": [],
   "source": [
    "loader = WikipediaLoader(query=\"MKUltra\")"
   ]
  },
  {
   "cell_type": "code",
   "execution_count": 4,
   "id": "e91018aa-7784-4c15-9a64-a8d3738b1998",
   "metadata": {},
   "outputs": [
    {
     "name": "stderr",
     "output_type": "stream",
     "text": [
      "/usr/local/Cellar/jupyterlab/4.2.3/libexec/lib/python3.12/site-packages/wikipedia/wikipedia.py:389: GuessedAtParserWarning: No parser was explicitly specified, so I'm using the best available HTML parser for this system (\"lxml\"). This usually isn't a problem, but if you run this code on another system, or in a different virtual environment, it may use a different parser and behave differently.\n",
      "\n",
      "The code that caused this warning is on line 389 of the file /usr/local/Cellar/jupyterlab/4.2.3/libexec/lib/python3.12/site-packages/wikipedia/wikipedia.py. To get rid of this warning, pass the additional argument 'features=\"lxml\"' to the BeautifulSoup constructor.\n",
      "\n",
      "  lis = BeautifulSoup(html).find_all('li')\n"
     ]
    }
   ],
   "source": [
    "documents = loader.load()"
   ]
  },
  {
   "cell_type": "code",
   "execution_count": 6,
   "id": "423d7ec9-343c-4da9-bdcd-008a4cb3723c",
   "metadata": {},
   "outputs": [],
   "source": [
    "splitter = CharacterTextSplitter.from_tiktoken_encoder(chunk_size=500)"
   ]
  },
  {
   "cell_type": "code",
   "execution_count": 7,
   "id": "f021c016-7328-4706-8b93-31e820ae0bee",
   "metadata": {},
   "outputs": [
    {
     "name": "stderr",
     "output_type": "stream",
     "text": [
      "Created a chunk of size 525, which is longer than the specified 500\n",
      "Created a chunk of size 501, which is longer than the specified 500\n"
     ]
    }
   ],
   "source": [
    "chunked_article_docs=splitter.split_documents(documents)"
   ]
  },
  {
   "cell_type": "code",
   "execution_count": 11,
   "id": "7aa90367-b0cf-4456-99fc-01b14ae6366a",
   "metadata": {},
   "outputs": [],
   "source": [
    "embedding_function = OpenAIEmbeddings()"
   ]
  },
  {
   "cell_type": "code",
   "execution_count": 16,
   "id": "4360ac23-1dd2-45f9-a422-7cf4e836818c",
   "metadata": {},
   "outputs": [],
   "source": [
    "db = Chroma.from_documents(chunked_article_docs, embedding_function, persist_directory=\".mkultra\")\n",
    "db.persist()"
   ]
  },
  {
   "cell_type": "code",
   "execution_count": 18,
   "id": "52229a07-755f-492c-bebc-a42b7678c11e",
   "metadata": {},
   "outputs": [],
   "source": [
    "question = \"When was this declassified?\""
   ]
  },
  {
   "cell_type": "code",
   "execution_count": 19,
   "id": "a505ac36-e18a-46ae-8288-3058eaf84791",
   "metadata": {},
   "outputs": [],
   "source": [
    "llm = ChatOpenAI()"
   ]
  },
  {
   "cell_type": "code",
   "execution_count": 20,
   "id": "086c91b9-e128-4983-905e-18fadb1b0ade",
   "metadata": {},
   "outputs": [],
   "source": [
    "retriever = MultiQueryRetriever.from_llm(retriever=db.as_retriever(), llm=llm)"
   ]
  },
  {
   "cell_type": "code",
   "execution_count": 21,
   "id": "23058b98-fca0-478d-840d-fb32ece15b10",
   "metadata": {},
   "outputs": [],
   "source": [
    "import logging\n",
    "logging.basicConfig()\n",
    "logging.getLogger('langchain.retrievers.multi_query').setLevel(logging.INFO)"
   ]
  },
  {
   "cell_type": "code",
   "execution_count": 25,
   "id": "efb00a2a-0e93-4087-ae18-550093a6648e",
   "metadata": {},
   "outputs": [
    {
     "name": "stderr",
     "output_type": "stream",
     "text": [
      "INFO:langchain.retrievers.multi_query:Generated queries: ['1. What is the date of the declassification of this information?', '2. Can you provide the time when this was officially declassified?', '3. Do you know the specific moment when this document became unclassified?']\n"
     ]
    },
    {
     "name": "stdout",
     "output_type": "stream",
     "text": [
      "page_content='== Background ==\n",
      "In 1974, a New York Times article was published that accused the CIA of illegal operations committed against US citizens. Authored by Seymour M. Hersh, it documented an intelligence operation against the anti-war movement, as well as \"break-ins, wiretapping and the surreptitious inspection of mail\" conducted since the 1950s. According to former CIA Official Cord Meyer, these disclosures \"Convinced large sections of the American public that the CIA had become a domestic Gestapo and stimulated an overwhelming demand for the wide-ranging congressional investigations that were to follow.\"\n",
      "Hersh had been tipped off to the possibility of an \"in house operation\" by an unidentified member of the CIA in spring of 1974. He embarked on an investigation, speaking to sources that included CIA Chief of Counterintelligence James Angleton. Although he was not aware of its existence, Hersh uncovered much information that had been documented in the \"Family Jewels\", a report ordered by Director of Central Intelligence William Colby that chronicled CIA abuses over the past 25 years. The report would not be formally revealed to the public until 2007.\n",
      "\n",
      "\n",
      "=== Monitoring of anti-war movement and Project MINARET ===\n",
      "\n",
      "The article alleged that CIA agents had followed and photographed participants in the antiwar movement, as well as other demonstrations. It also reported that the CIA \"set up a network of informants who were ordered to penetrate antiwar groups\", and even placed an avowedly anti-war congressperson under surveillance while putting other lawmakers in a dossier on dissident Americans.\n",
      "Instituted in 1967 by the NSA, Project MINARET's purpose was to document \"Soviet, Chinese, and North Vietnamese influence over the militant civil rights and anti–Vietnam War movements\" for the CIA and FBI, according to historian Donald Critchlow. The NSA provided CIA and FBI officials  with reports of intercepted international communications by certain individuals in these movements. NSA officials stipulated that FBI and CIA agents must destroy or return these reports within two weeks of receiving them. The NSA also required that \"the reports not be 'identified with the National Security Agency' and that all records relating to this program were 'not serialize[d]' or filed with other NSA records, were classified 'Top Secret,' and were stamped 'Background Use Only'... because' metadata={'source': 'https://en.wikipedia.org/wiki/United_States_President%27s_Commission_on_CIA_Activities_within_the_United_States', 'summary': 'The United States President\\'s Commission on CIA Activities within the United States was ordained by President Gerald Ford in 1975 to investigate the activities of the Central Intelligence Agency and other intelligence agencies within the United States. The Presidential Commission was led by Vice President Nelson Rockefeller, from whom it gained the nickname the Rockefeller Commission.\\nThe commission was created in response to a December 1974 report in The New York Times that the CIA had conducted illegal domestic activities, including experiments on US citizens, during the 1960s. The commission issued a single report in 1975, touching upon certain CIA abuses including mail opening and surveillance of domestic dissident groups. It also publicized Project MKUltra, a CIA mind control research program.\\nSeveral weeks later, committees were established in the House and Senate for a similar purpose. White House Personnel, including future Vice President Dick Cheney, edited the results, excluding many of the commission\\'s findings from the final report. Some of these findings were included in later reports by the Congressional Committees.\\nBefore it was even released, the report faced scrutiny from the media, and was deemed a \"whitewash.\" The investigation was intended to be independent of Presidential interference, but the findings and recommendations included in the final report were highly altered from what was chosen by the commission itself. It was ultimately superseded in notability by the more substantial Church Committee in what became known as the \"Year of Intelligence.\"', 'title': \"United States President's Commission on CIA Activities within the United States\"}\n"
     ]
    }
   ],
   "source": [
    "print(retriever.get_relevant_documents(query=question)[0])"
   ]
  },
  {
   "cell_type": "code",
   "execution_count": null,
   "id": "c16ceaad-1d87-4e0e-b0d4-4473652c6229",
   "metadata": {},
   "outputs": [],
   "source": []
  }
 ],
 "metadata": {
  "kernelspec": {
   "display_name": "Python 3 (ipykernel)",
   "language": "python",
   "name": "python3"
  },
  "language_info": {
   "codemirror_mode": {
    "name": "ipython",
    "version": 3
   },
   "file_extension": ".py",
   "mimetype": "text/x-python",
   "name": "python",
   "nbconvert_exporter": "python",
   "pygments_lexer": "ipython3",
   "version": "3.12.4"
  }
 },
 "nbformat": 4,
 "nbformat_minor": 5
}
