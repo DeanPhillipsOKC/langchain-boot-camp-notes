{
 "cells": [
  {
   "cell_type": "code",
   "execution_count": 14,
   "id": "2c2e7c60-3f05-4bea-a98e-af91facb65a3",
   "metadata": {},
   "outputs": [],
   "source": [
    "from langchain.document_loaders import WikipediaLoader\n",
    "from langchain.prompts import HumanMessagePromptTemplate, ChatPromptTemplate\n",
    "from langchain.chat_models import ChatOpenAI"
   ]
  },
  {
   "cell_type": "code",
   "execution_count": 11,
   "id": "794d02af-1a54-43d5-9f4c-9e25284fb9e1",
   "metadata": {},
   "outputs": [],
   "source": [
    "subject = \"Abraham Lincoln\"\n",
    "question = \"When was he born\""
   ]
  },
  {
   "cell_type": "code",
   "execution_count": 4,
   "id": "de313393-0a9d-4f08-8a49-bbbd30ebccfb",
   "metadata": {},
   "outputs": [],
   "source": [
    "loader = WikipediaLoader(query=subject, load_max_docs=1)"
   ]
  },
  {
   "cell_type": "code",
   "execution_count": 5,
   "id": "08a4bdbf-d873-420b-a30c-2b1bc7aa81f2",
   "metadata": {},
   "outputs": [],
   "source": [
    "docs = loader.load()"
   ]
  },
  {
   "cell_type": "code",
   "execution_count": 6,
   "id": "f008656a-8427-403f-b1b3-66c5707889d6",
   "metadata": {},
   "outputs": [
    {
     "data": {
      "text/plain": [
       "'Abraham Lincoln ( LINK-ən; February 12, 1809 – April 15, 1865) was an American lawyer, politician, and statesman who served as the 16th president of the United States from 1861 until his assassination in 1865. Lincoln led the United States through the American Civil War, defending the nation as a constitutional union, defeating the insurgent Confederacy, playing a major role in the abolition of slavery, expanding the power of the federal government, and modernizing the U.S. economy.\\nLincoln was born into poverty in a log cabin in Kentucky and was raised on the frontier, mainly in Indiana. He was self-educated and became a lawyer, Whig Party leader, Illinois state legislator, and U.S. representative from Illinois. In 1849, he returned to his successful law practice in Springfield, Illinois. In 1854, angered by the Kansas–Nebraska Act, which opened the territories to slavery, he re-entered politics. He soon became a leader of the new Republican Party. He reached a national audience in the 1858 Senate campaign debates against Stephen A. Douglas. Lincoln ran for president in 1860, sweeping the North to gain victory. Pro-slavery elements in the South viewed his election as a threat to slavery, and Southern states began seceding from the nation. They formed the Confederate States of America, which began seizing federal military bases in the South. A little over one month after Lincoln assumed the presidency, Confederate forces attacked Fort Sumter, a U.S. fort in South Carolina. Following the bombardment, Lincoln mobilized forces to suppress the rebellion and restore the union.\\nLincoln, a moderate Republican, had to navigate a contentious array of factions with friends and opponents from both the Democratic and Republican parties. His allies, the War Democrats and the Radical Republicans, demanded harsh treatment of the Southern Confederates. He managed the factions by exploiting their mutual enmity, carefully distributing political patronage, and by appealing to the American people. Anti-war Democrats (called \"Copperheads\") despised Lincoln, and some irreconcilable pro-Confederate elements went so far as to plot his assassination. His Gettysburg Address came to be seen as one of the greatest and most influential statements of American national purpose. Lincoln closely supervised the strategy and tactics in the war effort, including the selection of generals, and implemented a naval blockade of the South\\'s trade. He suspended habeas corpus in Maryland and elsewhere, and he averted war with Britain by defusing the Trent Affair. In 1863, he issued the Emancipation Proclamation, which declared the slaves in the states \"in rebellion\" to be free. It also directed the Army and Navy to \"recognize and maintain the freedom of said persons\" and to receive them \"into the armed service of the United States.\" Lincoln unsuccessfully pressured border states to outlaw slavery, and he promoted the Thirteenth Amendment to the U.S. Constitution, which abolished slavery, except as punishment for a crime. Lincoln managed his own successful re-election campaign. He sought to heal the war-torn nation through reconciliation. On April 14, 1865, just five days after the Confederate surrender at Appomattox, he was attending a play at Ford\\'s Theatre in Washington, D.C., with his wife, Mary, when he was fatally shot by Confederate sympathizer John Wilkes Booth. \\nLincoln is remembered as a martyr and a national hero for his wartime leadership and for his efforts to preserve the Union and abolish slavery. Lincoln is often ranked in both popular and scholarly polls as the greatest president in American history.\\n\\n\\n== Family and childhood ==\\n\\n\\n=== Early life ===\\n\\nAbraham Lincoln was born on February 12, 1809, the second child of Thomas Lincoln and Nancy Hanks Lincoln, in a log cabin on Sinking Spring Farm near Hodgenville, Kentucky. He was a descendant of Samuel Lincoln, an Englishman who migrated from Hingham, Norfolk, to its namesake, Hingham, Massachusetts, in 16'"
      ]
     },
     "execution_count": 6,
     "metadata": {},
     "output_type": "execute_result"
    }
   ],
   "source": [
    "docs[0].page_content"
   ]
  },
  {
   "cell_type": "code",
   "execution_count": 9,
   "id": "a357e707-df9e-45b7-988a-838bb8841f76",
   "metadata": {},
   "outputs": [],
   "source": [
    "human_prompt = HumanMessagePromptTemplate.from_template(\"Answer the question using the following context\\nquestion: {question}\\n\\ncontext:{context}\")"
   ]
  },
  {
   "cell_type": "code",
   "execution_count": 10,
   "id": "ec1083b1-e682-48fb-b429-9fc88d191ed2",
   "metadata": {},
   "outputs": [],
   "source": [
    "chat_prompt = ChatPromptTemplate.from_messages([human_prompt])"
   ]
  },
  {
   "cell_type": "code",
   "execution_count": 13,
   "id": "4dd7768f-ba33-41bd-9d07-e64baf5dc7e6",
   "metadata": {},
   "outputs": [],
   "source": [
    "request = chat_prompt.format_prompt(question=question, context=docs[0].page_content).to_messages()"
   ]
  },
  {
   "cell_type": "code",
   "execution_count": 15,
   "id": "61c05928-32de-47c7-b257-3ee28dd12384",
   "metadata": {},
   "outputs": [],
   "source": [
    "model = ChatOpenAI()"
   ]
  },
  {
   "cell_type": "code",
   "execution_count": 16,
   "id": "df416276-247d-4288-a0d5-07618c273ccf",
   "metadata": {},
   "outputs": [
    {
     "data": {
      "text/plain": [
       "AIMessage(content='Abraham Lincoln was born on February 12, 1809.', response_metadata={'token_usage': {'completion_tokens': 14, 'prompt_tokens': 857, 'total_tokens': 871}, 'model_name': 'gpt-3.5-turbo', 'system_fingerprint': None, 'finish_reason': 'stop', 'logprobs': None}, id='run-047be41e-b8b3-4177-baeb-bae5af2c82cf-0')"
      ]
     },
     "execution_count": 16,
     "metadata": {},
     "output_type": "execute_result"
    }
   ],
   "source": [
    "model.invoke(request)"
   ]
  },
  {
   "cell_type": "code",
   "execution_count": null,
   "id": "e11487bd-f5bb-47b4-821e-e4b96fb52dd4",
   "metadata": {},
   "outputs": [],
   "source": []
  }
 ],
 "metadata": {
  "kernelspec": {
   "display_name": "Python 3 (ipykernel)",
   "language": "python",
   "name": "python3"
  },
  "language_info": {
   "codemirror_mode": {
    "name": "ipython",
    "version": 3
   },
   "file_extension": ".py",
   "mimetype": "text/x-python",
   "name": "python",
   "nbconvert_exporter": "python",
   "pygments_lexer": "ipython3",
   "version": "3.12.4"
  }
 },
 "nbformat": 4,
 "nbformat_minor": 5
}
