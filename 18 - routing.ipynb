{
 "cells": [
  {
   "cell_type": "code",
   "execution_count": 47,
   "id": "7c39402c-12fa-479c-a274-053cd3304464",
   "metadata": {},
   "outputs": [],
   "source": [
    "from operator import itemgetter\n",
    "from typing import Literal\n",
    "from typing_extensions import TypedDict\n",
    "\n",
    "from langchain_core.output_parsers import StrOutputParser\n",
    "from langchain_core.prompts import ChatPromptTemplate\n",
    "from langchain_core.runnables import RunnableLambda, RunnablePassthrough\n",
    "from langchain_openai import ChatOpenAI"
   ]
  },
  {
   "cell_type": "code",
   "execution_count": 2,
   "id": "786879e0-2d1e-41f5-9aab-7758b208a42b",
   "metadata": {},
   "outputs": [],
   "source": [
    "llm = ChatOpenAI()"
   ]
  },
  {
   "cell_type": "code",
   "execution_count": 56,
   "id": "be0113dd-ce74-4543-bd17-63f1f27da0c8",
   "metadata": {},
   "outputs": [],
   "source": [
    "animal_prompt = ChatPromptTemplate.from_messages(\n",
    "    [\n",
    "        (\"system\", \"You are an expert on animals. You are very passionate and like to slip random animal facts into conversation\"),\n",
    "        (\"human\", \"{query}\")\n",
    "    ]\n",
    ")"
   ]
  },
  {
   "cell_type": "code",
   "execution_count": 57,
   "id": "852a2dc7-e678-4d3a-8c62-c15c6faabf2b",
   "metadata": {},
   "outputs": [],
   "source": [
    "vegetable_prompt = ChatPromptTemplate(\n",
    "    [\n",
    "        (\"system\", \"You are an expert on vegetables and get really annoyed if somebody confuses a fruit and vegetable\"),\n",
    "        (\"human\", \"{query}\")\n",
    "    ]\n",
    ")"
   ]
  },
  {
   "cell_type": "code",
   "execution_count": 59,
   "id": "5a4c80be-5971-4abc-b198-bb57f7d8af3d",
   "metadata": {},
   "outputs": [],
   "source": [
    "animal_chain = animal_prompt | llm | StrOutputParser()\n",
    "vegetable_chain = vegetable_prompt | llm | StrOutputParser()"
   ]
  },
  {
   "cell_type": "code",
   "execution_count": 61,
   "id": "d1725040-c041-448b-8e9b-3130ca6eab4a",
   "metadata": {},
   "outputs": [],
   "source": [
    "class RouteQuery(TypedDict):\n",
    "    \"\"\"Route query to destination.\"\"\"\n",
    "    destination: Literal[\"animal\", \"vegetable\"]"
   ]
  },
  {
   "cell_type": "code",
   "execution_count": 64,
   "id": "eeaaef5c-2ad2-4c29-a9ee-881ee62bfcfa",
   "metadata": {},
   "outputs": [],
   "source": [
    "route_system = \"Route the user's query to either the animal or vegetable expert.\"\n",
    "route_prompt = ChatPromptTemplate.from_messages(\n",
    "    [\n",
    "        (\"system\", route_system),\n",
    "        (\"human\", \"{query}\")\n",
    "    ]\n",
    ")"
   ]
  },
  {
   "cell_type": "code",
   "execution_count": 66,
   "id": "b0ee8b3b-752e-4f23-875d-5f4c35ba1e7e",
   "metadata": {},
   "outputs": [],
   "source": [
    "route_chain = (\n",
    "    route_prompt\n",
    "    | llm.with_structured_output(RouteQuery)\n",
    "    | itemgetter(\"destination\")\n",
    ")"
   ]
  },
  {
   "cell_type": "code",
   "execution_count": 68,
   "id": "e52526b9-756f-461c-8dd5-26597cd2d642",
   "metadata": {},
   "outputs": [],
   "source": [
    "chain = {\n",
    "    \"destination\": route_chain,  # \"animal\" or \"vegetable\"\n",
    "    \"query\": lambda x: x[\"query\"],  # pass through input query\n",
    "} | RunnableLambda(\n",
    "    # if animal, chain_1. otherwise, chain_2.\n",
    "    lambda x: animal_chain if x[\"destination\"] == \"animal\" else vegetable_chain,\n",
    ")"
   ]
  },
  {
   "cell_type": "code",
   "execution_count": 75,
   "id": "fd63707d-9b58-4119-895b-892c25fd5a50",
   "metadata": {},
   "outputs": [
    {
     "data": {
      "text/plain": [
       "'Rabbits can actually come in a variety of colors, including white, black, brown, and even spotted patterns! Did you know that their coloration can sometimes help them camouflage in their natural habitats to avoid predators?'"
      ]
     },
     "execution_count": 75,
     "metadata": {},
     "output_type": "execute_result"
    }
   ],
   "source": [
    "chain.invoke({\"query\": \"What color are rabbits?\"})"
   ]
  },
  {
   "cell_type": "code",
   "execution_count": null,
   "id": "50a5fa90-85c1-4a21-9037-1e95b689a029",
   "metadata": {},
   "outputs": [],
   "source": []
  }
 ],
 "metadata": {
  "kernelspec": {
   "display_name": "Python 3 (ipykernel)",
   "language": "python",
   "name": "python3"
  },
  "language_info": {
   "codemirror_mode": {
    "name": "ipython",
    "version": 3
   },
   "file_extension": ".py",
   "mimetype": "text/x-python",
   "name": "python",
   "nbconvert_exporter": "python",
   "pygments_lexer": "ipython3",
   "version": "3.12.4"
  }
 },
 "nbformat": 4,
 "nbformat_minor": 5
}
