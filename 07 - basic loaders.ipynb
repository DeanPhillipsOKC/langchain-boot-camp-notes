{
 "cells": [
  {
   "cell_type": "markdown",
   "id": "6b230a36-89f3-4403-9076-90acb7fe4720",
   "metadata": {},
   "source": [
    "# CSV Loader Example"
   ]
  },
  {
   "cell_type": "code",
   "execution_count": 1,
   "id": "c9d54cc4-521d-4510-b3ff-8738ad124bfe",
   "metadata": {},
   "outputs": [],
   "source": [
    "from langchain.document_loaders import CSVLoader"
   ]
  },
  {
   "cell_type": "code",
   "execution_count": 2,
   "id": "c9756588-2680-4e7a-bdb1-6f2ac530c17a",
   "metadata": {},
   "outputs": [],
   "source": [
    "loader = CSVLoader(\"data/penguins.csv\")"
   ]
  },
  {
   "cell_type": "code",
   "execution_count": 4,
   "id": "fb993bb5-85b8-4e29-8fd5-067629821d3c",
   "metadata": {},
   "outputs": [],
   "source": [
    "data = loader.load()"
   ]
  },
  {
   "cell_type": "code",
   "execution_count": 7,
   "id": "1fcadf95-e9a9-4582-b91a-85c0e24936f1",
   "metadata": {},
   "outputs": [
    {
     "name": "stdout",
     "output_type": "stream",
     "text": [
      "species: Adelie\n",
      "island: Torgersen\n",
      "bill_length_mm: 39.1\n",
      "bill_depth_mm: 18.7\n",
      "flipper_length_mm: 181\n",
      "body_mass_g: 3750\n",
      "sex: MALE\n"
     ]
    }
   ],
   "source": [
    "print(data[0].page_content)"
   ]
  },
  {
   "cell_type": "code",
   "execution_count": 8,
   "id": "e2bb2441-119a-4ed7-992d-24d77d8724ad",
   "metadata": {},
   "outputs": [
    {
     "name": "stdout",
     "output_type": "stream",
     "text": [
      "{'source': 'data/penguins.csv', 'row': 0}\n"
     ]
    }
   ],
   "source": [
    "print(data[0].metadata)"
   ]
  },
  {
   "cell_type": "markdown",
   "id": "a7e972f3-a1a5-4ce2-966a-00c27343efeb",
   "metadata": {},
   "source": [
    "# HTML Loader Example"
   ]
  },
  {
   "cell_type": "code",
   "execution_count": 1,
   "id": "bf1f67dd-117f-444a-8197-0d57be03b5cf",
   "metadata": {},
   "outputs": [],
   "source": [
    "from langchain.document_loaders import BSHTMLLoader"
   ]
  },
  {
   "cell_type": "code",
   "execution_count": 2,
   "id": "21f443cc-8408-4373-8b8f-fa95c1476cc4",
   "metadata": {},
   "outputs": [],
   "source": [
    "loader = BSHTMLLoader(\"data/some_website.html\")"
   ]
  },
  {
   "cell_type": "code",
   "execution_count": 3,
   "id": "932fe6f0-44a1-4820-aee5-4f01b68f846c",
   "metadata": {},
   "outputs": [],
   "source": [
    "data = loader.load()"
   ]
  },
  {
   "cell_type": "code",
   "execution_count": 4,
   "id": "cc3cd4e7-ace7-464e-a25f-9e085412f795",
   "metadata": {},
   "outputs": [
    {
     "name": "stdout",
     "output_type": "stream",
     "text": [
      "Heading 1\n"
     ]
    }
   ],
   "source": [
    "print(data[0].page_content)"
   ]
  },
  {
   "cell_type": "code",
   "execution_count": 5,
   "id": "4f403344-6581-4a7c-b93a-6a769bf80ebd",
   "metadata": {},
   "outputs": [
    {
     "name": "stdout",
     "output_type": "stream",
     "text": [
      "{'source': 'data/some_website.html', 'title': ''}\n"
     ]
    }
   ],
   "source": [
    "print(data[0].metadata)"
   ]
  },
  {
   "cell_type": "markdown",
   "id": "2c6eec7d-703e-416d-bce2-f46f2d142f05",
   "metadata": {},
   "source": [
    "# PDF Loader Example"
   ]
  },
  {
   "cell_type": "code",
   "execution_count": 6,
   "id": "9b2147f4-fd3b-4a77-8d12-5453486d86b5",
   "metadata": {},
   "outputs": [],
   "source": [
    "from langchain.document_loaders import PyPDFLoader"
   ]
  },
  {
   "cell_type": "code",
   "execution_count": 7,
   "id": "49f2064d-e200-4246-932b-bacb3a805db8",
   "metadata": {},
   "outputs": [],
   "source": [
    "loader = PyPDFLoader(\"data/SomeReport.pdf\")"
   ]
  },
  {
   "cell_type": "code",
   "execution_count": 8,
   "id": "151a8793-0695-4406-9141-d67669c69eb2",
   "metadata": {},
   "outputs": [],
   "source": [
    "data = loader.load()"
   ]
  },
  {
   "cell_type": "code",
   "execution_count": 9,
   "id": "c98f3b22-5c65-4f9a-b9a6-0f19a508b27f",
   "metadata": {},
   "outputs": [
    {
     "name": "stdout",
     "output_type": "stream",
     "text": [
      "This\n",
      "is\n",
      "the\n",
      "first\n",
      "line\n",
      "PDF.\n",
      "This\n",
      "is\n",
      "the\n",
      "second\n",
      "line\n",
      "in\n",
      "the\n",
      "PDF.\n",
      "This\n",
      "is\n",
      "the\n",
      "third\n",
      "line\n",
      "in\n",
      "the\n",
      "PDF.\n"
     ]
    }
   ],
   "source": [
    "print(data[0].page_content)"
   ]
  },
  {
   "cell_type": "code",
   "execution_count": 10,
   "id": "c002e5cc-1e8f-4931-9840-1eb6b0ddec98",
   "metadata": {},
   "outputs": [
    {
     "name": "stdout",
     "output_type": "stream",
     "text": [
      "{'source': 'data/SomeReport.pdf', 'page': 0}\n"
     ]
    }
   ],
   "source": [
    "print(data[0].metadata)"
   ]
  },
  {
   "cell_type": "code",
   "execution_count": null,
   "id": "90a8bd24-03c9-43b3-8bdc-3d68e89e07a9",
   "metadata": {},
   "outputs": [],
   "source": []
  }
 ],
 "metadata": {
  "kernelspec": {
   "display_name": "Python 3 (ipykernel)",
   "language": "python",
   "name": "python3"
  },
  "language_info": {
   "codemirror_mode": {
    "name": "ipython",
    "version": 3
   },
   "file_extension": ".py",
   "mimetype": "text/x-python",
   "name": "python",
   "nbconvert_exporter": "python",
   "pygments_lexer": "ipython3",
   "version": "3.12.4"
  }
 },
 "nbformat": 4,
 "nbformat_minor": 5
}
