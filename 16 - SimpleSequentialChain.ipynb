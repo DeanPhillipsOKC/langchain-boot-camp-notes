{
 "cells": [
  {
   "cell_type": "code",
   "execution_count": 5,
   "id": "c4664648-7e48-44fa-bd57-205190509a37",
   "metadata": {},
   "outputs": [],
   "source": [
    "from langchain_openai import ChatOpenAI\n",
    "from langchain.prompts import ChatPromptTemplate, HumanMessagePromptTemplate"
   ]
  },
  {
   "cell_type": "code",
   "execution_count": 6,
   "id": "accb1515-1779-42eb-bf42-085075bf97ae",
   "metadata": {},
   "outputs": [],
   "source": [
    "from langchain.chains import LLMChain, SimpleSequentialChain"
   ]
  },
  {
   "cell_type": "code",
   "execution_count": 7,
   "id": "ed1bb6b6-8a77-4327-956d-5573e7aae4b4",
   "metadata": {},
   "outputs": [],
   "source": [
    "llm = ChatOpenAI()"
   ]
  },
  {
   "cell_type": "code",
   "execution_count": 3,
   "id": "b64768fd-17a5-4d26-be65-ae0dbda31fb4",
   "metadata": {},
   "outputs": [],
   "source": [
    "prompt1 = ChatPromptTemplate.from_template(\"Write a bullet point outline of a blog post about: {subject}\")"
   ]
  },
  {
   "cell_type": "code",
   "execution_count": 8,
   "id": "ee9f3e2f-84f6-45c7-be3f-2c3deba254e2",
   "metadata": {},
   "outputs": [
    {
     "name": "stderr",
     "output_type": "stream",
     "text": [
      "/usr/local/Cellar/jupyterlab/4.2.3/libexec/lib/python3.12/site-packages/langchain_core/_api/deprecation.py:139: LangChainDeprecationWarning: The class `LLMChain` was deprecated in LangChain 0.1.17 and will be removed in 1.0. Use RunnableSequence, e.g., `prompt | llm` instead.\n",
      "  warn_deprecated(\n"
     ]
    }
   ],
   "source": [
    "chain1 = LLMChain(llm=llm, prompt=prompt1)"
   ]
  },
  {
   "cell_type": "code",
   "execution_count": 9,
   "id": "d16e995e-ce53-472c-84e0-935c76c89a53",
   "metadata": {},
   "outputs": [],
   "source": [
    "prompt2 = ChatPromptTemplate.from_template(\"Write a blog post using the following outline\\n{outline}\")"
   ]
  },
  {
   "cell_type": "code",
   "execution_count": 10,
   "id": "35c0dcdb-6234-4999-94a0-4035d4d7e889",
   "metadata": {},
   "outputs": [],
   "source": [
    "chain2 = LLMChain(llm=llm, prompt=prompt2)"
   ]
  },
  {
   "cell_type": "code",
   "execution_count": 12,
   "id": "3e025d7d-5dd4-4a75-9393-52bd2bc67c71",
   "metadata": {},
   "outputs": [],
   "source": [
    "main_chain = SimpleSequentialChain(chains=[chain1, chain2], verbose=True)"
   ]
  },
  {
   "cell_type": "code",
   "execution_count": 14,
   "id": "7eedfda7-e755-43d0-8f67-12d8df6ccbe7",
   "metadata": {},
   "outputs": [
    {
     "name": "stdout",
     "output_type": "stream",
     "text": [
      "\n",
      "\n",
      "\u001b[1m> Entering new SimpleSequentialChain chain...\u001b[0m\n",
      "\u001b[36;1m\u001b[1;3m- Introduction to MKUltra: a top-secret CIA mind control program conducted in the 1950s and 1960s\n",
      "- Overview of the goals of MKUltra: to develop techniques for interrogation, mind control, and behavior modification\n",
      "- Explanation of the unethical and controversial methods used in MKUltra experiments, including drug testing, hypnosis, and sensory deprivation\n",
      "- Discussion of the impact of MKUltra on the individuals who were subjected to its experiments, and the lasting psychological effects they experienced\n",
      "- Examination of the public outcry and government investigations that eventually led to the end of MKUltra in the 1970s\n",
      "- Analysis of the legacy of MKUltra and its implications for government secrecy, ethics in research, and the treatment of human subjects in scientific experiments.\u001b[0m\n",
      "\u001b[33;1m\u001b[1;3mIn the shadows of the Cold War era, a dark chapter in American history unfolded - the MKUltra program. This top-secret CIA mind control program, conducted in the 1950s and 1960s, aimed to develop techniques for interrogation, mind control, and behavior modification. However, the methods used in MKUltra experiments were not only unethical but also highly controversial.\n",
      "\n",
      "The goals of MKUltra were ambitious, seeking to gain control over individuals' minds through various means. This included drug testing, hypnosis, sensory deprivation, and other forms of psychological manipulation. The individuals who were subjected to these experiments often suffered lasting psychological effects, including severe trauma, memory loss, and emotional distress.\n",
      "\n",
      "The public outcry over the unethical nature of MKUltra eventually led to government investigations that exposed the program's dark secrets. In the 1970s, MKUltra was officially ended, but the damage had already been done. The legacy of MKUltra continues to haunt the minds of those who were victims of its experiments, as well as raise questions about government secrecy, ethics in research, and the treatment of human subjects in scientific experiments.\n",
      "\n",
      "The implications of MKUltra are far-reaching, serving as a cautionary tale about the dangers of unchecked power and the lengths to which governments will go in the pursuit of control. The lessons learned from MKUltra are a stark reminder of the importance of transparency, accountability, and ethical standards in all forms of research and experimentation. As we look back on this dark chapter in history, we must never forget the individuals who suffered at the hands of MKUltra, and strive to ensure that such atrocities are never repeated.\u001b[0m\n",
      "\n",
      "\u001b[1m> Finished chain.\u001b[0m\n"
     ]
    }
   ],
   "source": [
    "result = main_chain.run(\"MKUltra\")"
   ]
  },
  {
   "cell_type": "code",
   "execution_count": null,
   "id": "6efa5539-3d99-49f0-bfea-2ead4d5c2ebd",
   "metadata": {},
   "outputs": [],
   "source": []
  }
 ],
 "metadata": {
  "kernelspec": {
   "display_name": "Python 3 (ipykernel)",
   "language": "python",
   "name": "python3"
  },
  "language_info": {
   "codemirror_mode": {
    "name": "ipython",
    "version": 3
   },
   "file_extension": ".py",
   "mimetype": "text/x-python",
   "name": "python",
   "nbconvert_exporter": "python",
   "pygments_lexer": "ipython3",
   "version": "3.12.4"
  }
 },
 "nbformat": 4,
 "nbformat_minor": 5
}
