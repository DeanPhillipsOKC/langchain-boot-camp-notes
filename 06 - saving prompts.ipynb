{
 "cells": [
  {
   "cell_type": "code",
   "execution_count": 1,
   "id": "e162c259-700e-4aa5-8284-3c924232837e",
   "metadata": {},
   "outputs": [],
   "source": [
    "from langchain.prompts import ChatPromptTemplate, PromptTemplate, SystemMessagePromptTemplate, HumanMessagePromptTemplate, AIMessagePromptTemplate\n",
    "from langchain_openai.chat_models import ChatOpenAI"
   ]
  },
  {
   "cell_type": "code",
   "execution_count": 2,
   "id": "3e453768-0346-426f-a258-150ad39eafde",
   "metadata": {},
   "outputs": [],
   "source": [
    "template = \"Tell me a fact about {planet}\""
   ]
  },
  {
   "cell_type": "code",
   "execution_count": 3,
   "id": "b261645f-6aba-4769-b0e0-c1154816f37b",
   "metadata": {},
   "outputs": [],
   "source": [
    "prompt = PromptTemplate(template=template, input_variables=[\"planet\"])"
   ]
  },
  {
   "cell_type": "code",
   "execution_count": 4,
   "id": "d5b21e56-438e-48e4-a2d8-b8b6355812d9",
   "metadata": {},
   "outputs": [],
   "source": [
    "prompt.save(\"myprompt.json\")"
   ]
  },
  {
   "cell_type": "code",
   "execution_count": 5,
   "id": "0e4f2739-0f8d-4af7-99f6-474b4146bb89",
   "metadata": {},
   "outputs": [],
   "source": [
    "from langchain.prompts import load_prompt"
   ]
  },
  {
   "cell_type": "code",
   "execution_count": 6,
   "id": "d86e99f2-f785-46bf-9895-11e9d7134292",
   "metadata": {},
   "outputs": [],
   "source": [
    "loaded_prompt = load_prompt(\"myprompt.json\")"
   ]
  },
  {
   "cell_type": "code",
   "execution_count": 7,
   "id": "779e7ff4-2db4-4e32-be34-faa9b2d1273d",
   "metadata": {},
   "outputs": [
    {
     "data": {
      "text/plain": [
       "PromptTemplate(input_variables=['planet'], template='Tell me a fact about {planet}')"
      ]
     },
     "execution_count": 7,
     "metadata": {},
     "output_type": "execute_result"
    }
   ],
   "source": [
    "loaded_prompt"
   ]
  },
  {
   "cell_type": "code",
   "execution_count": null,
   "id": "1d23f639-e29d-405c-adb5-3dc790d9ef15",
   "metadata": {},
   "outputs": [],
   "source": []
  }
 ],
 "metadata": {
  "kernelspec": {
   "display_name": "Python 3 (ipykernel)",
   "language": "python",
   "name": "python3"
  },
  "language_info": {
   "codemirror_mode": {
    "name": "ipython",
    "version": 3
   },
   "file_extension": ".py",
   "mimetype": "text/x-python",
   "name": "python",
   "nbconvert_exporter": "python",
   "pygments_lexer": "ipython3",
   "version": "3.12.4"
  }
 },
 "nbformat": 4,
 "nbformat_minor": 5
}
