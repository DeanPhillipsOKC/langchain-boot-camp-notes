{
 "cells": [
  {
   "cell_type": "code",
   "execution_count": 3,
   "id": "5ceda3f3-d8c1-48c7-92f3-ddab19d84db6",
   "metadata": {},
   "outputs": [],
   "source": [
    "from langchain.prompts import ChatPromptTemplate, PromptTemplate, SystemMessagePromptTemplate, HumanMessagePromptTemplate, AIMessagePromptTemplate\n",
    "from langchain_openai.chat_models import ChatOpenAI\n"
   ]
  },
  {
   "cell_type": "code",
   "execution_count": 4,
   "id": "f31a4750-c0f6-4fa6-8eaa-ca5e70aace37",
   "metadata": {},
   "outputs": [],
   "source": [
    "from langchain.output_parsers import CommaSeparatedListOutputParser"
   ]
  },
  {
   "cell_type": "code",
   "execution_count": 5,
   "id": "6cc0702e-bdd0-4ddc-bdb9-da2634f3f9c7",
   "metadata": {},
   "outputs": [],
   "source": [
    "csv_parser = CommaSeparatedListOutputParser()"
   ]
  },
  {
   "cell_type": "code",
   "execution_count": 8,
   "id": "c18583f2-c68d-4908-a0e9-7cea0877cdf0",
   "metadata": {},
   "outputs": [],
   "source": [
    "human_prompt = \"{request}\\n{parse_instructions}\"\n",
    "human_message_prompt = HumanMessagePromptTemplate.from_template(system_prompt)"
   ]
  },
  {
   "cell_type": "code",
   "execution_count": 12,
   "id": "2f6c8e67-4788-4475-9797-a833d4b9745d",
   "metadata": {},
   "outputs": [],
   "source": [
    "chat = ChatOpenAI()\n",
    "chat_prompt_template = ChatPromptTemplate.from_messages([human_message_prompt])\n",
    "chat_prompt = chat_prompt_template.format_prompt(request = \"Tell me five unusual colors that go well with tan\", parse_instructions = csv_parser.get_format_instructions())"
   ]
  },
  {
   "cell_type": "code",
   "execution_count": 15,
   "id": "10fc52e5-a937-469b-880e-0718d3f419f9",
   "metadata": {},
   "outputs": [
    {
     "data": {
      "text/plain": [
       "['sage green', 'mustard yellow', 'coral', 'slate blue', 'lavender']"
      ]
     },
     "execution_count": 15,
     "metadata": {},
     "output_type": "execute_result"
    }
   ],
   "source": [
    "csv_parser.parse(chat.invoke(chat_prompt).content)"
   ]
  }
 ],
 "metadata": {
  "kernelspec": {
   "display_name": "Python 3 (ipykernel)",
   "language": "python",
   "name": "python3"
  },
  "language_info": {
   "codemirror_mode": {
    "name": "ipython",
    "version": 3
   },
   "file_extension": ".py",
   "mimetype": "text/x-python",
   "name": "python",
   "nbconvert_exporter": "python",
   "pygments_lexer": "ipython3",
   "version": "3.12.4"
  }
 },
 "nbformat": 4,
 "nbformat_minor": 5
}
